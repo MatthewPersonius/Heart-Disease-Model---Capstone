{
 "cells": [
  {
   "cell_type": "code",
   "execution_count": 1,
   "id": "6b9a374a",
   "metadata": {},
   "outputs": [
    {
     "name": "stdout",
     "output_type": "stream",
     "text": [
      "Requirement already satisfied: category_encoders in /opt/anaconda3/lib/python3.8/site-packages (2.3.0)\n",
      "Requirement already satisfied: statsmodels>=0.9.0 in /opt/anaconda3/lib/python3.8/site-packages (from category_encoders) (0.12.2)\n",
      "Requirement already satisfied: patsy>=0.5.1 in /opt/anaconda3/lib/python3.8/site-packages (from category_encoders) (0.5.1)\n",
      "Requirement already satisfied: numpy>=1.14.0 in /opt/anaconda3/lib/python3.8/site-packages (from category_encoders) (1.20.1)\n",
      "Requirement already satisfied: scikit-learn>=0.20.0 in /opt/anaconda3/lib/python3.8/site-packages (from category_encoders) (0.24.1)\n",
      "Requirement already satisfied: pandas>=0.21.1 in /opt/anaconda3/lib/python3.8/site-packages (from category_encoders) (1.2.4)\n",
      "Requirement already satisfied: scipy>=1.0.0 in /opt/anaconda3/lib/python3.8/site-packages (from category_encoders) (1.6.2)\n",
      "Requirement already satisfied: python-dateutil>=2.7.3 in /opt/anaconda3/lib/python3.8/site-packages (from pandas>=0.21.1->category_encoders) (2.8.1)\n",
      "Requirement already satisfied: pytz>=2017.3 in /opt/anaconda3/lib/python3.8/site-packages (from pandas>=0.21.1->category_encoders) (2021.1)\n",
      "Requirement already satisfied: six in /opt/anaconda3/lib/python3.8/site-packages (from patsy>=0.5.1->category_encoders) (1.15.0)\n",
      "Requirement already satisfied: joblib>=0.11 in /opt/anaconda3/lib/python3.8/site-packages (from scikit-learn>=0.20.0->category_encoders) (1.0.1)\n",
      "Requirement already satisfied: threadpoolctl>=2.0.0 in /opt/anaconda3/lib/python3.8/site-packages (from scikit-learn>=0.20.0->category_encoders) (2.1.0)\n"
     ]
    }
   ],
   "source": [
    "import pandas as pd\n",
    "import numpy as np\n",
    "import seaborn as sns\n",
    "import matplotlib.pyplot as plt\n",
    "import math \n",
    "from matplotlib.figure import Figure\n",
    "from sklearn.preprocessing import OneHotEncoder\n",
    "from sklearn.compose import make_column_transformer\n",
    "from sklearn.pipeline import make_pipeline\n",
    "from sklearn.linear_model import LogisticRegression \n",
    "from sklearn.model_selection import cross_val_score\n",
    "from sklearn.model_selection import train_test_split\n",
    "\n",
    "!pip install category_encoders"
   ]
  },
  {
   "cell_type": "code",
   "execution_count": 50,
   "id": "1ea37f24",
   "metadata": {},
   "outputs": [],
   "source": [
    "import category_encoders as ce"
   ]
  },
  {
   "cell_type": "code",
   "execution_count": 51,
   "id": "41ec1125",
   "metadata": {},
   "outputs": [],
   "source": [
    "encoder = ce.OneHotEncoder()"
   ]
  },
  {
   "cell_type": "code",
   "execution_count": 52,
   "id": "def0666e",
   "metadata": {},
   "outputs": [],
   "source": [
    "heart_data=pd.read_csv(\"heart.csv.xls\")"
   ]
  },
  {
   "cell_type": "code",
   "execution_count": 53,
   "id": "9dd70092",
   "metadata": {},
   "outputs": [],
   "source": [
    "y=heart_data['HeartDisease']"
   ]
  },
  {
   "cell_type": "code",
   "execution_count": 54,
   "id": "36bd4806",
   "metadata": {},
   "outputs": [],
   "source": [
    "X=heart_data.drop('HeartDisease', axis='columns')"
   ]
  },
  {
   "cell_type": "code",
   "execution_count": 55,
   "id": "723aaf59",
   "metadata": {},
   "outputs": [],
   "source": [
    "X_train, X_test, y_train, y_test = train_test_split(X, y, test_size=0.20, random_state=1)"
   ]
  },
  {
   "cell_type": "code",
   "execution_count": 56,
   "id": "b229edd6",
   "metadata": {},
   "outputs": [
    {
     "name": "stdout",
     "output_type": "stream",
     "text": [
      "Train (734, 11) (734,)\n",
      "Test (184, 11) (184,)\n"
     ]
    }
   ],
   "source": [
    "print('Train', X_train.shape, y_train.shape)\n",
    "print('Test', X_test.shape, y_test.shape)"
   ]
  },
  {
   "cell_type": "code",
   "execution_count": 57,
   "id": "c112d474",
   "metadata": {},
   "outputs": [],
   "source": [
    "encoder.fit(X_train)\n",
    "X_train_enc = encoder.transform(X_train)\n",
    "X_test_enc = encoder.transform(X_test)\n"
   ]
  },
  {
   "cell_type": "code",
   "execution_count": 58,
   "id": "d9f5095b",
   "metadata": {},
   "outputs": [
    {
     "name": "stdout",
     "output_type": "stream",
     "text": [
      "     Age  Sex_1  Sex_2  ChestPainType_1  ChestPainType_2  ChestPainType_3  \\\n",
      "852   43      1      0                1                0                0   \n",
      "121   52      0      1                0                1                0   \n",
      "664   65      0      1                1                0                0   \n",
      "187   41      1      0                1                0                0   \n",
      "108   50      1      0                1                0                0   \n",
      "..   ...    ...    ...              ...              ...              ...   \n",
      "767   54      0      1                0                1                0   \n",
      "72    52      1      0                1                0                0   \n",
      "908   63      1      0                1                0                0   \n",
      "235   39      1      0                0                0                0   \n",
      "37    41      0      1                0                0                0   \n",
      "\n",
      "     ChestPainType_4  RestingBP  Cholesterol  FastingBS  RestingECG_1  \\\n",
      "852                0        120          177          0             1   \n",
      "121                0        125          272          0             0   \n",
      "664                0        150          225          0             1   \n",
      "187                0        120          237          1             0   \n",
      "108                0        140          129          0             0   \n",
      "..               ...        ...          ...        ...           ...   \n",
      "767                0        108          267          0             1   \n",
      "72                 0        120          182          0             0   \n",
      "908                0        140          187          0             1   \n",
      "235                1        120          200          0             0   \n",
      "37                 1        110          250          0             0   \n",
      "\n",
      "     RestingECG_2  RestingECG_3  MaxHR  ExerciseAngina_1  ExerciseAngina_2  \\\n",
      "852             0             0    120                 1                 0   \n",
      "121             1             0    139                 0                 1   \n",
      "664             0             0    114                 0                 1   \n",
      "187             1             0    138                 1                 0   \n",
      "108             1             0    135                 0                 1   \n",
      "..            ...           ...    ...               ...               ...   \n",
      "767             0             0    167                 0                 1   \n",
      "72              1             0    150                 0                 1   \n",
      "908             0             0    144                 1                 0   \n",
      "235             1             0    160                 1                 0   \n",
      "37              0             1    142                 0                 1   \n",
      "\n",
      "     Oldpeak  ST_Slope_1  ST_Slope_2  ST_Slope_3  \n",
      "852      2.5           1           0           0  \n",
      "121      0.0           0           1           0  \n",
      "664      1.0           1           0           0  \n",
      "187      1.0           1           0           0  \n",
      "108      0.0           0           1           0  \n",
      "..       ...         ...         ...         ...  \n",
      "767      0.0           0           1           0  \n",
      "72       0.0           1           0           0  \n",
      "908      4.0           0           1           0  \n",
      "235      1.0           1           0           0  \n",
      "37       0.0           0           1           0  \n",
      "\n",
      "[734 rows x 20 columns]\n"
     ]
    }
   ],
   "source": [
    "print(X_train_enc)"
   ]
  },
  {
   "cell_type": "code",
   "execution_count": 59,
   "id": "499caf70",
   "metadata": {},
   "outputs": [],
   "source": [
    "logmodel=LogisticRegression(solver='lbfgs', max_iter=9000)"
   ]
  },
  {
   "cell_type": "code",
   "execution_count": 60,
   "id": "184e962a",
   "metadata": {},
   "outputs": [
    {
     "data": {
      "text/plain": [
       "LogisticRegression(max_iter=9000)"
      ]
     },
     "execution_count": 60,
     "metadata": {},
     "output_type": "execute_result"
    }
   ],
   "source": [
    "logmodel.fit(X_train_enc, y_train)"
   ]
  },
  {
   "cell_type": "code",
   "execution_count": 61,
   "id": "21d1b5c7",
   "metadata": {},
   "outputs": [],
   "source": [
    "predictions=logmodel.predict(X_test_enc)"
   ]
  },
  {
   "cell_type": "code",
   "execution_count": 62,
   "id": "b0b0fc9c",
   "metadata": {},
   "outputs": [],
   "source": [
    "from sklearn.metrics import classification_report\n",
    "from sklearn.metrics import confusion_matrix\n",
    "from sklearn.metrics import accuracy_score"
   ]
  },
  {
   "cell_type": "code",
   "execution_count": 63,
   "id": "587300d4",
   "metadata": {},
   "outputs": [
    {
     "data": {
      "text/plain": [
       "'              precision    recall  f1-score   support\\n\\n           0       0.88      0.86      0.87        74\\n           1       0.91      0.92      0.91       110\\n\\n    accuracy                           0.90       184\\n   macro avg       0.89      0.89      0.89       184\\nweighted avg       0.90      0.90      0.90       184\\n'"
      ]
     },
     "execution_count": 63,
     "metadata": {},
     "output_type": "execute_result"
    }
   ],
   "source": [
    "classification_report(y_test,predictions)"
   ]
  },
  {
   "cell_type": "code",
   "execution_count": 64,
   "id": "83e7b178",
   "metadata": {},
   "outputs": [
    {
     "data": {
      "text/plain": [
       "array([[ 64,  10],\n",
       "       [  9, 101]])"
      ]
     },
     "execution_count": 64,
     "metadata": {},
     "output_type": "execute_result"
    }
   ],
   "source": [
    "confusion_matrix(y_test,predictions)"
   ]
  },
  {
   "cell_type": "code",
   "execution_count": 65,
   "id": "51b46dec",
   "metadata": {},
   "outputs": [
    {
     "data": {
      "text/plain": [
       "0.8967391304347826"
      ]
     },
     "execution_count": 65,
     "metadata": {},
     "output_type": "execute_result"
    }
   ],
   "source": [
    "accuracy_score(y_test,predictions)"
   ]
  },
  {
   "cell_type": "code",
   "execution_count": 68,
   "id": "1314f041",
   "metadata": {},
   "outputs": [],
   "source": [
    "from sklearn.ensemble import RandomForestRegressor\n",
    "from sklearn.ensemble import RandomForestClassifier"
   ]
  },
  {
   "cell_type": "markdown",
   "id": "f424a629",
   "metadata": {},
   "source": [
    "## Random Forest Model"
   ]
  },
  {
   "cell_type": "code",
   "execution_count": 70,
   "id": "930e9bd9",
   "metadata": {},
   "outputs": [],
   "source": [
    "RF_model = RandomForestClassifier(n_estimators=100, oob_score=True, random_state=42)"
   ]
  },
  {
   "cell_type": "code",
   "execution_count": 72,
   "id": "71564057",
   "metadata": {},
   "outputs": [
    {
     "data": {
      "text/plain": [
       "RandomForestClassifier(oob_score=True, random_state=42)"
      ]
     },
     "execution_count": 72,
     "metadata": {},
     "output_type": "execute_result"
    }
   ],
   "source": [
    "RF_model.fit(X_train_enc, y_train)"
   ]
  },
  {
   "cell_type": "code",
   "execution_count": 73,
   "id": "7b274c7c",
   "metadata": {},
   "outputs": [],
   "source": [
    "predictions=RF_model.predict(X_test_enc)"
   ]
  },
  {
   "cell_type": "code",
   "execution_count": 74,
   "id": "2171c7e1",
   "metadata": {},
   "outputs": [
    {
     "data": {
      "text/plain": [
       "'              precision    recall  f1-score   support\\n\\n           0       0.85      0.86      0.86        74\\n           1       0.91      0.90      0.90       110\\n\\n    accuracy                           0.89       184\\n   macro avg       0.88      0.88      0.88       184\\nweighted avg       0.89      0.89      0.89       184\\n'"
      ]
     },
     "execution_count": 74,
     "metadata": {},
     "output_type": "execute_result"
    }
   ],
   "source": [
    "classification_report(y_test,predictions)"
   ]
  },
  {
   "cell_type": "code",
   "execution_count": 75,
   "id": "c86c83cb",
   "metadata": {},
   "outputs": [
    {
     "data": {
      "text/plain": [
       "array([[64, 10],\n",
       "       [11, 99]])"
      ]
     },
     "execution_count": 75,
     "metadata": {},
     "output_type": "execute_result"
    }
   ],
   "source": [
    "confusion_matrix(y_test,predictions)"
   ]
  },
  {
   "cell_type": "code",
   "execution_count": 76,
   "id": "6f8bba9f",
   "metadata": {},
   "outputs": [
    {
     "data": {
      "text/plain": [
       "0.8858695652173914"
      ]
     },
     "execution_count": 76,
     "metadata": {},
     "output_type": "execute_result"
    }
   ],
   "source": [
    "accuracy_score(y_test,predictions)"
   ]
  },
  {
   "cell_type": "raw",
   "id": "b7e40737",
   "metadata": {},
   "source": [
    "Feature Importance and Partial Dependence Plot"
   ]
  },
  {
   "cell_type": "code",
   "execution_count": 78,
   "id": "02815b08",
   "metadata": {},
   "outputs": [],
   "source": [
    "importances = RF_model.feature_importances_"
   ]
  },
  {
   "cell_type": "code",
   "execution_count": 79,
   "id": "82a3016e",
   "metadata": {},
   "outputs": [
    {
     "data": {
      "text/plain": [
       "array([0.07609881, 0.02058312, 0.02320399, 0.07341021, 0.01842004,\n",
       "       0.00656779, 0.02592578, 0.07672375, 0.10242444, 0.0194042 ,\n",
       "       0.01457823, 0.00995056, 0.01015348, 0.09686317, 0.04647076,\n",
       "       0.05893262, 0.0949282 , 0.11694097, 0.10310389, 0.00531597])"
      ]
     },
     "execution_count": 79,
     "metadata": {},
     "output_type": "execute_result"
    }
   ],
   "source": [
    "RF_model.feature_importances_"
   ]
  },
  {
   "cell_type": "code",
   "execution_count": 81,
   "id": "0004d834",
   "metadata": {},
   "outputs": [
    {
     "data": {
      "text/plain": [
       "<AxesSubplot:>"
      ]
     },
     "execution_count": 81,
     "metadata": {},
     "output_type": "execute_result"
    },
    {
     "data": {
      "image/png": "[encoded data removed]",
      "text/plain": [
       "<Figure size 504x432 with 1 Axes>"
      ]
     },
     "metadata": {
      "needs_background": "light"
     },
     "output_type": "display_data"
    }
   ],
   "source": [
    "feature_importances = pd.Series(RF_model.feature_importances_, index=X_train_enc.columns)\n",
    "sorted_features=feature_importances.sort_values()\n",
    "#feature_importances.plot(kind='barh', figsize=(7,6))\n",
    "sorted_features.plot(kind='barh', figsize=(7,6))"
   ]
  },
  {
   "cell_type": "code",
   "execution_count": 83,
   "id": "5da1e91f",
   "metadata": {},
   "outputs": [],
   "source": [
    "from sklearn.inspection import plot_partial_dependence"
   ]
  },
  {
   "cell_type": "code",
   "execution_count": 91,
   "id": "bc8fdb32",
   "metadata": {},
   "outputs": [
    {
     "data": {
      "text/plain": [
       "<sklearn.inspection._plot.partial_dependence.PartialDependenceDisplay at 0x7f7fb856c520>"
      ]
     },
     "execution_count": 91,
     "metadata": {},
     "output_type": "execute_result"
    },
    {
     "data": {
      "image/png": "[encoded data removed]",
      "text/plain": [
       "<Figure size 1296x288 with 4 Axes>"
      ]
     },
     "metadata": {
      "needs_background": "light"
     },
     "output_type": "display_data"
    }
   ],
   "source": [
    "fig, ax = plt.subplots(figsize=(18,4))\n",
    "plot_partial_dependence(RF_model, X_train_enc, ['Cholesterol', \"MaxHR\", \"Age\"], \n",
    "                        grid_resolution=20, ax=ax)"
   ]
  },
  {
   "cell_type": "code",
   "execution_count": 92,
   "id": "c4bec198",
   "metadata": {},
   "outputs": [
    {
     "data": {
      "text/plain": [
       "<sklearn.inspection._plot.partial_dependence.PartialDependenceDisplay at 0x7f7fba44b490>"
      ]
     },
     "execution_count": 92,
     "metadata": {},
     "output_type": "execute_result"
    },
    {
     "data": {
      "image/png": "[encoded data removed]",
      "text/plain": [
       "<Figure size 1296x288 with 4 Axes>"
      ]
     },
     "metadata": {
      "needs_background": "light"
     },
     "output_type": "display_data"
    }
   ],
   "source": [
    "fig, ax = plt.subplots(figsize=(18,4))\n",
    "plot_partial_dependence(RF_model, X_train_enc, ['ST_Slope_1', \"ST_Slope_2\", \"ST_Slope_3\"], \n",
    "                        grid_resolution=20, ax=ax)"
   ]
  },
  {
   "cell_type": "code",
   "execution_count": 93,
   "id": "627a9ec6",
   "metadata": {},
   "outputs": [
    {
     "data": {
      "text/plain": [
       "<sklearn.inspection._plot.partial_dependence.PartialDependenceDisplay at 0x7f7fba5ab370>"
      ]
     },
     "execution_count": 93,
     "metadata": {},
     "output_type": "execute_result"
    },
    {
     "data": {
      "image/png": "[encoded data removed]",
      "text/plain": [
       "<Figure size 1296x288 with 4 Axes>"
      ]
     },
     "metadata": {
      "needs_background": "light"
     },
     "output_type": "display_data"
    }
   ],
   "source": [
    "fig, ax = plt.subplots(figsize=(18,4))\n",
    "plot_partial_dependence(RF_model, X_train_enc, ['RestingECG_1', \"RestingECG_2\", \"RestingECG_3\"], \n",
    "                        grid_resolution=20, ax=ax)"
   ]
  },
  {
   "cell_type": "code",
   "execution_count": null,
   "id": "ed43dbfa",
   "metadata": {},
   "outputs": [],
   "source": []
  },
  {
   "cell_type": "code",
   "execution_count": null,
   "id": "dae8e145",
   "metadata": {},
   "outputs": [],
   "source": []
  },
  {
   "cell_type": "code",
   "execution_count": null,
   "id": "4f01ad2e",
   "metadata": {},
   "outputs": [],
   "source": []
  },
  {
   "cell_type": "code",
   "execution_count": null,
   "id": "e0c8882f",
   "metadata": {},
   "outputs": [],
   "source": []
  }
 ],
 "metadata": {
  "kernelspec": {
   "display_name": "Python 3",
   "language": "python",
   "name": "python3"
  },
  "language_info": {
   "codemirror_mode": {
    "name": "ipython",
    "version": 3
   },
   "file_extension": ".py",
   "mimetype": "text/x-python",
   "name": "python",
   "nbconvert_exporter": "python",
   "pygments_lexer": "ipython3",
   "version": "3.8.8"
  }
 },
 "nbformat": 4,
 "nbformat_minor": 5
}
