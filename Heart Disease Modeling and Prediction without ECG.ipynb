{
 "cells": [
  {
   "cell_type": "markdown",
   "id": "6789092e",
   "metadata": {},
   "source": [
    "# Heart Disease Predicition Machine Learning Model - No ECG"
   ]
  },
  {
   "cell_type": "markdown",
   "id": "cb6a3233",
   "metadata": {},
   "source": [
    "### Objective: Heart disease is one of the leading causes of death in America and being able to detect heart disease promptly can have a number of benefits. In this project, we will try to detect heart disease using supervised machine learning strategies. This model is not intended to replace doctors by any means, instead this model is intended to be a tool to assist physicians in their decision making.\n",
    "Data Source: https://www.kaggle.com/fedesoriano/heart-failure-prediction\n",
    "##### Kaggle Project overview:\n",
    "Cardiovascular diseases (CVDs) are the number 1 cause of death globally, taking an estimated 17.9 million lives each year, which accounts for 31% of all deaths worldwide. Four out of five CVD deaths are due to heart attacks and strokes, and one-third of these deaths occur prematurely in people under 70 years of age. Heart failure is a common event caused by CVDs and this dataset contains 11 features that can be used to predict a possible heart disease.\n",
    "People with cardiovascular disease or who are at high cardiovascular risk (due to the presence of one or more risk factors such as hypertension, diabetes, hyperlipidaemia or already established disease) need early detection and management wherein a machine learning model can be of great help."
   ]
  },
  {
   "cell_type": "code",
   "execution_count": 1,
   "id": "24545dbd",
   "metadata": {},
   "outputs": [
    {
     "name": "stdout",
     "output_type": "stream",
     "text": [
      "Requirement already satisfied: category_encoders in /opt/anaconda3/lib/python3.8/site-packages (2.3.0)\n",
      "Requirement already satisfied: patsy>=0.5.1 in /opt/anaconda3/lib/python3.8/site-packages (from category_encoders) (0.5.1)\n",
      "Requirement already satisfied: statsmodels>=0.9.0 in /opt/anaconda3/lib/python3.8/site-packages (from category_encoders) (0.12.2)\n",
      "Requirement already satisfied: pandas>=0.21.1 in /opt/anaconda3/lib/python3.8/site-packages (from category_encoders) (1.2.4)\n",
      "Requirement already satisfied: scikit-learn>=0.20.0 in /opt/anaconda3/lib/python3.8/site-packages (from category_encoders) (0.24.1)\n",
      "Requirement already satisfied: scipy>=1.0.0 in /opt/anaconda3/lib/python3.8/site-packages (from category_encoders) (1.6.2)\n",
      "Requirement already satisfied: numpy>=1.14.0 in /opt/anaconda3/lib/python3.8/site-packages (from category_encoders) (1.20.1)\n",
      "Requirement already satisfied: python-dateutil>=2.7.3 in /opt/anaconda3/lib/python3.8/site-packages (from pandas>=0.21.1->category_encoders) (2.8.1)\n",
      "Requirement already satisfied: pytz>=2017.3 in /opt/anaconda3/lib/python3.8/site-packages (from pandas>=0.21.1->category_encoders) (2021.1)\n",
      "Requirement already satisfied: six in /opt/anaconda3/lib/python3.8/site-packages (from patsy>=0.5.1->category_encoders) (1.15.0)\n",
      "Requirement already satisfied: threadpoolctl>=2.0.0 in /opt/anaconda3/lib/python3.8/site-packages (from scikit-learn>=0.20.0->category_encoders) (2.1.0)\n",
      "Requirement already satisfied: joblib>=0.11 in /opt/anaconda3/lib/python3.8/site-packages (from scikit-learn>=0.20.0->category_encoders) (1.0.1)\n"
     ]
    }
   ],
   "source": [
    "import pandas as pd\n",
    "import numpy as np\n",
    "import seaborn as sns\n",
    "import matplotlib.pyplot as plt\n",
    "import math \n",
    "from matplotlib.figure import Figure\n",
    "from sklearn.preprocessing import OneHotEncoder\n",
    "from sklearn.compose import make_column_transformer\n",
    "from sklearn.pipeline import make_pipeline\n",
    "from sklearn.linear_model import LogisticRegression \n",
    "from sklearn.model_selection import cross_val_score\n",
    "from sklearn.model_selection import train_test_split\n",
    "\n",
    "!pip install category_encoders\n",
    "%matplotlib inline"
   ]
  },
  {
   "cell_type": "markdown",
   "id": "35662c9e",
   "metadata": {},
   "source": [
    "### As found in previous notebooks, there are a few rows with missing cholesterol data.  I will change missing values to the sample median."
   ]
  },
  {
   "cell_type": "code",
   "execution_count": 2,
   "id": "5adc1757",
   "metadata": {},
   "outputs": [],
   "source": [
    "heart_data=pd.read_csv(\"heart.csv.xls\")"
   ]
  },
  {
   "cell_type": "code",
   "execution_count": 3,
   "id": "e9ebb9c4",
   "metadata": {},
   "outputs": [
    {
     "data": {
      "text/html": [
       "<div>\n",
       "<style scoped>\n",
       "    .dataframe tbody tr th:only-of-type {\n",
       "        vertical-align: middle;\n",
       "    }\n",
       "\n",
       "    .dataframe tbody tr th {\n",
       "        vertical-align: top;\n",
       "    }\n",
       "\n",
       "    .dataframe thead th {\n",
       "        text-align: right;\n",
       "    }\n",
       "</style>\n",
       "<table border=\"1\" class=\"dataframe\">\n",
       "  <thead>\n",
       "    <tr style=\"text-align: right;\">\n",
       "      <th></th>\n",
       "      <th>Age</th>\n",
       "      <th>Sex</th>\n",
       "      <th>ChestPainType</th>\n",
       "      <th>RestingBP</th>\n",
       "      <th>Cholesterol</th>\n",
       "      <th>FastingBS</th>\n",
       "      <th>RestingECG</th>\n",
       "      <th>MaxHR</th>\n",
       "      <th>ExerciseAngina</th>\n",
       "      <th>Oldpeak</th>\n",
       "      <th>ST_Slope</th>\n",
       "      <th>HeartDisease</th>\n",
       "    </tr>\n",
       "  </thead>\n",
       "  <tbody>\n",
       "    <tr>\n",
       "      <th>0</th>\n",
       "      <td>40</td>\n",
       "      <td>M</td>\n",
       "      <td>ATA</td>\n",
       "      <td>140</td>\n",
       "      <td>289</td>\n",
       "      <td>0</td>\n",
       "      <td>Normal</td>\n",
       "      <td>172</td>\n",
       "      <td>N</td>\n",
       "      <td>0.0</td>\n",
       "      <td>Up</td>\n",
       "      <td>0</td>\n",
       "    </tr>\n",
       "    <tr>\n",
       "      <th>1</th>\n",
       "      <td>49</td>\n",
       "      <td>F</td>\n",
       "      <td>NAP</td>\n",
       "      <td>160</td>\n",
       "      <td>180</td>\n",
       "      <td>0</td>\n",
       "      <td>Normal</td>\n",
       "      <td>156</td>\n",
       "      <td>N</td>\n",
       "      <td>1.0</td>\n",
       "      <td>Flat</td>\n",
       "      <td>1</td>\n",
       "    </tr>\n",
       "    <tr>\n",
       "      <th>2</th>\n",
       "      <td>37</td>\n",
       "      <td>M</td>\n",
       "      <td>ATA</td>\n",
       "      <td>130</td>\n",
       "      <td>283</td>\n",
       "      <td>0</td>\n",
       "      <td>ST</td>\n",
       "      <td>98</td>\n",
       "      <td>N</td>\n",
       "      <td>0.0</td>\n",
       "      <td>Up</td>\n",
       "      <td>0</td>\n",
       "    </tr>\n",
       "    <tr>\n",
       "      <th>3</th>\n",
       "      <td>48</td>\n",
       "      <td>F</td>\n",
       "      <td>ASY</td>\n",
       "      <td>138</td>\n",
       "      <td>214</td>\n",
       "      <td>0</td>\n",
       "      <td>Normal</td>\n",
       "      <td>108</td>\n",
       "      <td>Y</td>\n",
       "      <td>1.5</td>\n",
       "      <td>Flat</td>\n",
       "      <td>1</td>\n",
       "    </tr>\n",
       "    <tr>\n",
       "      <th>4</th>\n",
       "      <td>54</td>\n",
       "      <td>M</td>\n",
       "      <td>NAP</td>\n",
       "      <td>150</td>\n",
       "      <td>195</td>\n",
       "      <td>0</td>\n",
       "      <td>Normal</td>\n",
       "      <td>122</td>\n",
       "      <td>N</td>\n",
       "      <td>0.0</td>\n",
       "      <td>Up</td>\n",
       "      <td>0</td>\n",
       "    </tr>\n",
       "    <tr>\n",
       "      <th>...</th>\n",
       "      <td>...</td>\n",
       "      <td>...</td>\n",
       "      <td>...</td>\n",
       "      <td>...</td>\n",
       "      <td>...</td>\n",
       "      <td>...</td>\n",
       "      <td>...</td>\n",
       "      <td>...</td>\n",
       "      <td>...</td>\n",
       "      <td>...</td>\n",
       "      <td>...</td>\n",
       "      <td>...</td>\n",
       "    </tr>\n",
       "    <tr>\n",
       "      <th>913</th>\n",
       "      <td>45</td>\n",
       "      <td>M</td>\n",
       "      <td>TA</td>\n",
       "      <td>110</td>\n",
       "      <td>264</td>\n",
       "      <td>0</td>\n",
       "      <td>Normal</td>\n",
       "      <td>132</td>\n",
       "      <td>N</td>\n",
       "      <td>1.2</td>\n",
       "      <td>Flat</td>\n",
       "      <td>1</td>\n",
       "    </tr>\n",
       "    <tr>\n",
       "      <th>914</th>\n",
       "      <td>68</td>\n",
       "      <td>M</td>\n",
       "      <td>ASY</td>\n",
       "      <td>144</td>\n",
       "      <td>193</td>\n",
       "      <td>1</td>\n",
       "      <td>Normal</td>\n",
       "      <td>141</td>\n",
       "      <td>N</td>\n",
       "      <td>3.4</td>\n",
       "      <td>Flat</td>\n",
       "      <td>1</td>\n",
       "    </tr>\n",
       "    <tr>\n",
       "      <th>915</th>\n",
       "      <td>57</td>\n",
       "      <td>M</td>\n",
       "      <td>ASY</td>\n",
       "      <td>130</td>\n",
       "      <td>131</td>\n",
       "      <td>0</td>\n",
       "      <td>Normal</td>\n",
       "      <td>115</td>\n",
       "      <td>Y</td>\n",
       "      <td>1.2</td>\n",
       "      <td>Flat</td>\n",
       "      <td>1</td>\n",
       "    </tr>\n",
       "    <tr>\n",
       "      <th>916</th>\n",
       "      <td>57</td>\n",
       "      <td>F</td>\n",
       "      <td>ATA</td>\n",
       "      <td>130</td>\n",
       "      <td>236</td>\n",
       "      <td>0</td>\n",
       "      <td>LVH</td>\n",
       "      <td>174</td>\n",
       "      <td>N</td>\n",
       "      <td>0.0</td>\n",
       "      <td>Flat</td>\n",
       "      <td>1</td>\n",
       "    </tr>\n",
       "    <tr>\n",
       "      <th>917</th>\n",
       "      <td>38</td>\n",
       "      <td>M</td>\n",
       "      <td>NAP</td>\n",
       "      <td>138</td>\n",
       "      <td>175</td>\n",
       "      <td>0</td>\n",
       "      <td>Normal</td>\n",
       "      <td>173</td>\n",
       "      <td>N</td>\n",
       "      <td>0.0</td>\n",
       "      <td>Up</td>\n",
       "      <td>0</td>\n",
       "    </tr>\n",
       "  </tbody>\n",
       "</table>\n",
       "<p>918 rows × 12 columns</p>\n",
       "</div>"
      ],
      "text/plain": [
       "     Age Sex ChestPainType  RestingBP  Cholesterol  FastingBS RestingECG  \\\n",
       "0     40   M           ATA        140          289          0     Normal   \n",
       "1     49   F           NAP        160          180          0     Normal   \n",
       "2     37   M           ATA        130          283          0         ST   \n",
       "3     48   F           ASY        138          214          0     Normal   \n",
       "4     54   M           NAP        150          195          0     Normal   \n",
       "..   ...  ..           ...        ...          ...        ...        ...   \n",
       "913   45   M            TA        110          264          0     Normal   \n",
       "914   68   M           ASY        144          193          1     Normal   \n",
       "915   57   M           ASY        130          131          0     Normal   \n",
       "916   57   F           ATA        130          236          0        LVH   \n",
       "917   38   M           NAP        138          175          0     Normal   \n",
       "\n",
       "     MaxHR ExerciseAngina  Oldpeak ST_Slope  HeartDisease  \n",
       "0      172              N      0.0       Up             0  \n",
       "1      156              N      1.0     Flat             1  \n",
       "2       98              N      0.0       Up             0  \n",
       "3      108              Y      1.5     Flat             1  \n",
       "4      122              N      0.0       Up             0  \n",
       "..     ...            ...      ...      ...           ...  \n",
       "913    132              N      1.2     Flat             1  \n",
       "914    141              N      3.4     Flat             1  \n",
       "915    115              Y      1.2     Flat             1  \n",
       "916    174              N      0.0     Flat             1  \n",
       "917    173              N      0.0       Up             0  \n",
       "\n",
       "[918 rows x 12 columns]"
      ]
     },
     "execution_count": 3,
     "metadata": {},
     "output_type": "execute_result"
    }
   ],
   "source": [
    "heart_data"
   ]
  },
  {
   "cell_type": "code",
   "execution_count": 4,
   "id": "92754c70",
   "metadata": {},
   "outputs": [],
   "source": [
    "heart_data['Cholesterol']=heart_data['Cholesterol'].replace(0,heart_data['Cholesterol'].median())"
   ]
  },
  {
   "cell_type": "code",
   "execution_count": 5,
   "id": "6e052afe",
   "metadata": {},
   "outputs": [],
   "source": [
    "heart_data_no_ecg=heart_data.drop(columns=['ST_Slope', 'RestingECG', 'Oldpeak'])"
   ]
  },
  {
   "cell_type": "code",
   "execution_count": 6,
   "id": "5eee65c9",
   "metadata": {},
   "outputs": [],
   "source": [
    "heart_data_no_ecg['Cholesterol']=heart_data_no_ecg['Cholesterol'].replace(0,heart_data_no_ecg['Cholesterol'].median())"
   ]
  },
  {
   "cell_type": "code",
   "execution_count": 7,
   "id": "2f62bdd6",
   "metadata": {},
   "outputs": [
    {
     "data": {
      "text/html": [
       "<div>\n",
       "<style scoped>\n",
       "    .dataframe tbody tr th:only-of-type {\n",
       "        vertical-align: middle;\n",
       "    }\n",
       "\n",
       "    .dataframe tbody tr th {\n",
       "        vertical-align: top;\n",
       "    }\n",
       "\n",
       "    .dataframe thead th {\n",
       "        text-align: right;\n",
       "    }\n",
       "</style>\n",
       "<table border=\"1\" class=\"dataframe\">\n",
       "  <thead>\n",
       "    <tr style=\"text-align: right;\">\n",
       "      <th></th>\n",
       "      <th>Age</th>\n",
       "      <th>Sex</th>\n",
       "      <th>ChestPainType</th>\n",
       "      <th>RestingBP</th>\n",
       "      <th>Cholesterol</th>\n",
       "      <th>FastingBS</th>\n",
       "      <th>MaxHR</th>\n",
       "      <th>ExerciseAngina</th>\n",
       "      <th>HeartDisease</th>\n",
       "    </tr>\n",
       "  </thead>\n",
       "  <tbody>\n",
       "    <tr>\n",
       "      <th>0</th>\n",
       "      <td>40</td>\n",
       "      <td>M</td>\n",
       "      <td>ATA</td>\n",
       "      <td>140</td>\n",
       "      <td>289</td>\n",
       "      <td>0</td>\n",
       "      <td>172</td>\n",
       "      <td>N</td>\n",
       "      <td>0</td>\n",
       "    </tr>\n",
       "    <tr>\n",
       "      <th>1</th>\n",
       "      <td>49</td>\n",
       "      <td>F</td>\n",
       "      <td>NAP</td>\n",
       "      <td>160</td>\n",
       "      <td>180</td>\n",
       "      <td>0</td>\n",
       "      <td>156</td>\n",
       "      <td>N</td>\n",
       "      <td>1</td>\n",
       "    </tr>\n",
       "    <tr>\n",
       "      <th>2</th>\n",
       "      <td>37</td>\n",
       "      <td>M</td>\n",
       "      <td>ATA</td>\n",
       "      <td>130</td>\n",
       "      <td>283</td>\n",
       "      <td>0</td>\n",
       "      <td>98</td>\n",
       "      <td>N</td>\n",
       "      <td>0</td>\n",
       "    </tr>\n",
       "    <tr>\n",
       "      <th>3</th>\n",
       "      <td>48</td>\n",
       "      <td>F</td>\n",
       "      <td>ASY</td>\n",
       "      <td>138</td>\n",
       "      <td>214</td>\n",
       "      <td>0</td>\n",
       "      <td>108</td>\n",
       "      <td>Y</td>\n",
       "      <td>1</td>\n",
       "    </tr>\n",
       "    <tr>\n",
       "      <th>4</th>\n",
       "      <td>54</td>\n",
       "      <td>M</td>\n",
       "      <td>NAP</td>\n",
       "      <td>150</td>\n",
       "      <td>195</td>\n",
       "      <td>0</td>\n",
       "      <td>122</td>\n",
       "      <td>N</td>\n",
       "      <td>0</td>\n",
       "    </tr>\n",
       "    <tr>\n",
       "      <th>...</th>\n",
       "      <td>...</td>\n",
       "      <td>...</td>\n",
       "      <td>...</td>\n",
       "      <td>...</td>\n",
       "      <td>...</td>\n",
       "      <td>...</td>\n",
       "      <td>...</td>\n",
       "      <td>...</td>\n",
       "      <td>...</td>\n",
       "    </tr>\n",
       "    <tr>\n",
       "      <th>913</th>\n",
       "      <td>45</td>\n",
       "      <td>M</td>\n",
       "      <td>TA</td>\n",
       "      <td>110</td>\n",
       "      <td>264</td>\n",
       "      <td>0</td>\n",
       "      <td>132</td>\n",
       "      <td>N</td>\n",
       "      <td>1</td>\n",
       "    </tr>\n",
       "    <tr>\n",
       "      <th>914</th>\n",
       "      <td>68</td>\n",
       "      <td>M</td>\n",
       "      <td>ASY</td>\n",
       "      <td>144</td>\n",
       "      <td>193</td>\n",
       "      <td>1</td>\n",
       "      <td>141</td>\n",
       "      <td>N</td>\n",
       "      <td>1</td>\n",
       "    </tr>\n",
       "    <tr>\n",
       "      <th>915</th>\n",
       "      <td>57</td>\n",
       "      <td>M</td>\n",
       "      <td>ASY</td>\n",
       "      <td>130</td>\n",
       "      <td>131</td>\n",
       "      <td>0</td>\n",
       "      <td>115</td>\n",
       "      <td>Y</td>\n",
       "      <td>1</td>\n",
       "    </tr>\n",
       "    <tr>\n",
       "      <th>916</th>\n",
       "      <td>57</td>\n",
       "      <td>F</td>\n",
       "      <td>ATA</td>\n",
       "      <td>130</td>\n",
       "      <td>236</td>\n",
       "      <td>0</td>\n",
       "      <td>174</td>\n",
       "      <td>N</td>\n",
       "      <td>1</td>\n",
       "    </tr>\n",
       "    <tr>\n",
       "      <th>917</th>\n",
       "      <td>38</td>\n",
       "      <td>M</td>\n",
       "      <td>NAP</td>\n",
       "      <td>138</td>\n",
       "      <td>175</td>\n",
       "      <td>0</td>\n",
       "      <td>173</td>\n",
       "      <td>N</td>\n",
       "      <td>0</td>\n",
       "    </tr>\n",
       "  </tbody>\n",
       "</table>\n",
       "<p>918 rows × 9 columns</p>\n",
       "</div>"
      ],
      "text/plain": [
       "     Age Sex ChestPainType  RestingBP  Cholesterol  FastingBS  MaxHR  \\\n",
       "0     40   M           ATA        140          289          0    172   \n",
       "1     49   F           NAP        160          180          0    156   \n",
       "2     37   M           ATA        130          283          0     98   \n",
       "3     48   F           ASY        138          214          0    108   \n",
       "4     54   M           NAP        150          195          0    122   \n",
       "..   ...  ..           ...        ...          ...        ...    ...   \n",
       "913   45   M            TA        110          264          0    132   \n",
       "914   68   M           ASY        144          193          1    141   \n",
       "915   57   M           ASY        130          131          0    115   \n",
       "916   57   F           ATA        130          236          0    174   \n",
       "917   38   M           NAP        138          175          0    173   \n",
       "\n",
       "    ExerciseAngina  HeartDisease  \n",
       "0                N             0  \n",
       "1                N             1  \n",
       "2                N             0  \n",
       "3                Y             1  \n",
       "4                N             0  \n",
       "..             ...           ...  \n",
       "913              N             1  \n",
       "914              N             1  \n",
       "915              Y             1  \n",
       "916              N             1  \n",
       "917              N             0  \n",
       "\n",
       "[918 rows x 9 columns]"
      ]
     },
     "execution_count": 7,
     "metadata": {},
     "output_type": "execute_result"
    }
   ],
   "source": [
    "heart_data_no_ecg"
   ]
  },
  {
   "cell_type": "code",
   "execution_count": 8,
   "id": "12996b79",
   "metadata": {},
   "outputs": [
    {
     "name": "stdout",
     "output_type": "stream",
     "text": [
      "<class 'pandas.core.frame.DataFrame'>\n",
      "RangeIndex: 918 entries, 0 to 917\n",
      "Data columns (total 9 columns):\n",
      " #   Column          Non-Null Count  Dtype \n",
      "---  ------          --------------  ----- \n",
      " 0   Age             918 non-null    int64 \n",
      " 1   Sex             918 non-null    object\n",
      " 2   ChestPainType   918 non-null    object\n",
      " 3   RestingBP       918 non-null    int64 \n",
      " 4   Cholesterol     918 non-null    int64 \n",
      " 5   FastingBS       918 non-null    int64 \n",
      " 6   MaxHR           918 non-null    int64 \n",
      " 7   ExerciseAngina  918 non-null    object\n",
      " 8   HeartDisease    918 non-null    int64 \n",
      "dtypes: int64(6), object(3)\n",
      "memory usage: 64.7+ KB\n"
     ]
    }
   ],
   "source": [
    "heart_data_no_ecg.info()"
   ]
  },
  {
   "cell_type": "markdown",
   "id": "129bd35b",
   "metadata": {},
   "source": [
    "#### I will be running the model without ECG analysis later in this study.  and will be using the data frame labeled heart_data_no_ecg"
   ]
  },
  {
   "cell_type": "markdown",
   "id": "f8e8767c",
   "metadata": {},
   "source": [
    "## Setting up categrory encoding for the categorical data"
   ]
  },
  {
   "cell_type": "code",
   "execution_count": 9,
   "id": "58447f9e",
   "metadata": {},
   "outputs": [],
   "source": [
    "import category_encoders as ce"
   ]
  },
  {
   "cell_type": "code",
   "execution_count": 10,
   "id": "f165fd3d",
   "metadata": {},
   "outputs": [],
   "source": [
    "encoder = ce.OneHotEncoder(use_cat_names=True)"
   ]
  },
  {
   "cell_type": "code",
   "execution_count": 11,
   "id": "4fed1ad2",
   "metadata": {},
   "outputs": [],
   "source": [
    "y=heart_data_no_ecg['HeartDisease']"
   ]
  },
  {
   "cell_type": "code",
   "execution_count": 12,
   "id": "635920ea",
   "metadata": {},
   "outputs": [],
   "source": [
    "X=heart_data_no_ecg.drop('HeartDisease',  axis='columns')"
   ]
  },
  {
   "cell_type": "code",
   "execution_count": 13,
   "id": "56e50e74",
   "metadata": {},
   "outputs": [],
   "source": [
    "X_train, X_test, y_train, y_test = train_test_split(X, y, test_size=0.20, random_state=1)"
   ]
  },
  {
   "cell_type": "code",
   "execution_count": 14,
   "id": "1ce04625",
   "metadata": {},
   "outputs": [
    {
     "name": "stdout",
     "output_type": "stream",
     "text": [
      "Train (734, 8) (734,)\n",
      "Test (184, 8) (184,)\n"
     ]
    }
   ],
   "source": [
    "print('Train', X_train.shape, y_train.shape)\n",
    "print('Test', X_test.shape, y_test.shape)"
   ]
  },
  {
   "cell_type": "code",
   "execution_count": 15,
   "id": "c22aefb0",
   "metadata": {},
   "outputs": [],
   "source": [
    "encoder.fit(X_train)\n",
    "X_train_enc = encoder.transform(X_train)\n",
    "X_test_enc = encoder.transform(X_test)\n"
   ]
  },
  {
   "cell_type": "code",
   "execution_count": 16,
   "id": "c053dc05",
   "metadata": {},
   "outputs": [
    {
     "name": "stdout",
     "output_type": "stream",
     "text": [
      "     Age  Sex_M  Sex_F  ChestPainType_ASY  ChestPainType_NAP  \\\n",
      "852   43      1      0                  1                  0   \n",
      "121   52      0      1                  0                  1   \n",
      "664   65      0      1                  1                  0   \n",
      "187   41      1      0                  1                  0   \n",
      "108   50      1      0                  1                  0   \n",
      "..   ...    ...    ...                ...                ...   \n",
      "767   54      0      1                  0                  1   \n",
      "72    52      1      0                  1                  0   \n",
      "908   63      1      0                  1                  0   \n",
      "235   39      1      0                  0                  0   \n",
      "37    41      0      1                  0                  0   \n",
      "\n",
      "     ChestPainType_TA  ChestPainType_ATA  RestingBP  Cholesterol  FastingBS  \\\n",
      "852                 0                  0        120          177          0   \n",
      "121                 0                  0        125          272          0   \n",
      "664                 0                  0        150          225          0   \n",
      "187                 0                  0        120          237          1   \n",
      "108                 0                  0        140          129          0   \n",
      "..                ...                ...        ...          ...        ...   \n",
      "767                 0                  0        108          267          0   \n",
      "72                  0                  0        120          182          0   \n",
      "908                 0                  0        140          187          0   \n",
      "235                 0                  1        120          200          0   \n",
      "37                  0                  1        110          250          0   \n",
      "\n",
      "     MaxHR  ExerciseAngina_Y  ExerciseAngina_N  \n",
      "852    120                 1                 0  \n",
      "121    139                 0                 1  \n",
      "664    114                 0                 1  \n",
      "187    138                 1                 0  \n",
      "108    135                 0                 1  \n",
      "..     ...               ...               ...  \n",
      "767    167                 0                 1  \n",
      "72     150                 0                 1  \n",
      "908    144                 1                 0  \n",
      "235    160                 1                 0  \n",
      "37     142                 0                 1  \n",
      "\n",
      "[734 rows x 13 columns]\n"
     ]
    }
   ],
   "source": [
    "print(X_train_enc)"
   ]
  },
  {
   "cell_type": "code",
   "execution_count": 17,
   "id": "1f7aaa3a",
   "metadata": {},
   "outputs": [
    {
     "name": "stdout",
     "output_type": "stream",
     "text": [
      "<class 'pandas.core.frame.DataFrame'>\n",
      "Int64Index: 734 entries, 852 to 37\n",
      "Data columns (total 13 columns):\n",
      " #   Column             Non-Null Count  Dtype\n",
      "---  ------             --------------  -----\n",
      " 0   Age                734 non-null    int64\n",
      " 1   Sex_M              734 non-null    int64\n",
      " 2   Sex_F              734 non-null    int64\n",
      " 3   ChestPainType_ASY  734 non-null    int64\n",
      " 4   ChestPainType_NAP  734 non-null    int64\n",
      " 5   ChestPainType_TA   734 non-null    int64\n",
      " 6   ChestPainType_ATA  734 non-null    int64\n",
      " 7   RestingBP          734 non-null    int64\n",
      " 8   Cholesterol        734 non-null    int64\n",
      " 9   FastingBS          734 non-null    int64\n",
      " 10  MaxHR              734 non-null    int64\n",
      " 11  ExerciseAngina_Y   734 non-null    int64\n",
      " 12  ExerciseAngina_N   734 non-null    int64\n",
      "dtypes: int64(13)\n",
      "memory usage: 80.3 KB\n"
     ]
    }
   ],
   "source": [
    "X_train_enc.info()"
   ]
  },
  {
   "cell_type": "markdown",
   "id": "84e24331",
   "metadata": {},
   "source": [
    "## Modeling with Logistic Regression"
   ]
  },
  {
   "cell_type": "code",
   "execution_count": 18,
   "id": "4619663d",
   "metadata": {},
   "outputs": [],
   "source": [
    "logmodel=LogisticRegression(solver='lbfgs', max_iter=9000)"
   ]
  },
  {
   "cell_type": "code",
   "execution_count": 19,
   "id": "6acef2a8",
   "metadata": {},
   "outputs": [
    {
     "data": {
      "text/plain": [
       "LogisticRegression(max_iter=9000)"
      ]
     },
     "execution_count": 19,
     "metadata": {},
     "output_type": "execute_result"
    }
   ],
   "source": [
    "logmodel.fit(X_train_enc, y_train)"
   ]
  },
  {
   "cell_type": "code",
   "execution_count": 20,
   "id": "ef4c5cd2",
   "metadata": {},
   "outputs": [],
   "source": [
    "predictions=logmodel.predict(X_test_enc)"
   ]
  },
  {
   "cell_type": "code",
   "execution_count": 21,
   "id": "1474a424",
   "metadata": {},
   "outputs": [],
   "source": [
    "from sklearn.metrics import classification_report\n",
    "from sklearn.metrics import confusion_matrix\n",
    "from sklearn.metrics import accuracy_score"
   ]
  },
  {
   "cell_type": "code",
   "execution_count": 22,
   "id": "0e27fd73",
   "metadata": {},
   "outputs": [
    {
     "data": {
      "text/plain": [
       "'              precision    recall  f1-score   support\\n\\n           0       0.80      0.82      0.81        74\\n           1       0.88      0.86      0.87       110\\n\\n    accuracy                           0.85       184\\n   macro avg       0.84      0.84      0.84       184\\nweighted avg       0.85      0.85      0.85       184\\n'"
      ]
     },
     "execution_count": 22,
     "metadata": {},
     "output_type": "execute_result"
    }
   ],
   "source": [
    "classification_report(y_test,predictions)"
   ]
  },
  {
   "cell_type": "code",
   "execution_count": 23,
   "id": "b96d6afb",
   "metadata": {},
   "outputs": [
    {
     "data": {
      "text/plain": [
       "array([[61, 13],\n",
       "       [15, 95]])"
      ]
     },
     "execution_count": 23,
     "metadata": {},
     "output_type": "execute_result"
    }
   ],
   "source": [
    "confusion_matrix(y_test,predictions)"
   ]
  },
  {
   "attachments": {
    "image.png": {
     "image/png": "[encoded data removed]"
    }
   },
   "cell_type": "markdown",
   "id": "768ecf4a",
   "metadata": {},
   "source": [
    "![image.png](attachment:image.png)"
   ]
  },
  {
   "cell_type": "code",
   "execution_count": 430,
   "id": "315ec8ac",
   "metadata": {},
   "outputs": [],
   "source": [
    "from sklearn.model_selection import KFold"
   ]
  },
  {
   "cell_type": "code",
   "execution_count": 457,
   "id": "6be0ec40",
   "metadata": {},
   "outputs": [],
   "source": [
    "kf = KFold(n_splits = 7, shuffle = True)"
   ]
  },
  {
   "cell_type": "code",
   "execution_count": 458,
   "id": "73093a5a",
   "metadata": {},
   "outputs": [],
   "source": [
    "scores =[]"
   ]
  },
  {
   "cell_type": "code",
   "execution_count": 459,
   "id": "565b8fb6",
   "metadata": {},
   "outputs": [
    {
     "name": "stdout",
     "output_type": "stream",
     "text": [
      "[0.8409090909090909, 0.8257575757575758, 0.7954545454545454, 0.8560606060606061, 0.8181818181818182, 0.8409090909090909, 0.8636363636363636]\n",
      "0.8344155844155843\n"
     ]
    }
   ],
   "source": [
    "for i in range(7):\n",
    "    result=next(kf.split(X), None)\n",
    "    X_train = X.iloc[result[0]]\n",
    "    X_test = X.iloc[result[1]]\n",
    "    y_train = y.iloc[result[0]]\n",
    "    y_test = y.iloc[result[1]]\n",
    "    encoder.fit(X_train)\n",
    "    X_train_enc = encoder.transform(X_train)\n",
    "    X_test_enc = encoder.transform(X_test)\n",
    "    model = logmodel.fit(X_train_enc, y_train)\n",
    "    predictions = logmodel.predict(X_test_enc)\n",
    "    scores.append(model.score(X_test_enc, y_test))\n",
    "    \n",
    "print(scores)\n",
    "print(np.mean(scores))"
   ]
  },
  {
   "cell_type": "code",
   "execution_count": null,
   "id": "b32bb929",
   "metadata": {},
   "outputs": [],
   "source": []
  },
  {
   "cell_type": "code",
   "execution_count": null,
   "id": "3a80c8bf",
   "metadata": {},
   "outputs": [],
   "source": []
  },
  {
   "cell_type": "code",
   "execution_count": null,
   "id": "60c2ee12",
   "metadata": {},
   "outputs": [],
   "source": []
  },
  {
   "cell_type": "code",
   "execution_count": 195,
   "id": "ca32c47c",
   "metadata": {},
   "outputs": [],
   "source": [
    "from sklearn.metrics import precision_score\n",
    "from sklearn.metrics import recall_score"
   ]
  },
  {
   "cell_type": "code",
   "execution_count": 196,
   "id": "f58b9848",
   "metadata": {},
   "outputs": [
    {
     "data": {
      "text/plain": [
       "0.842391304347826"
      ]
     },
     "execution_count": 196,
     "metadata": {},
     "output_type": "execute_result"
    }
   ],
   "source": [
    "accuracy_score(y_test,predictions)"
   ]
  },
  {
   "cell_type": "code",
   "execution_count": 197,
   "id": "0cfed752",
   "metadata": {},
   "outputs": [
    {
     "name": "stdout",
     "output_type": "stream",
     "text": [
      "The Precision Score- we will diagnose yes heart disease correctly at this percent: 0.8857142857142857\n",
      "The Recall Score - We will catch this percent of patients who actually do have heart disease : 0.8454545454545455\n"
     ]
    }
   ],
   "source": [
    "print('The Precision Score- we will diagnose yes heart disease correctly at this percent: ' + str(precision_score(y_test,predictions)))\n",
    "print('The Recall Score - We will catch this percent of patients who actually do have heart disease : ' + str(recall_score(y_test,predictions)))\n",
    "\n"
   ]
  },
  {
   "cell_type": "code",
   "execution_count": 212,
   "id": "04b72594",
   "metadata": {},
   "outputs": [
    {
     "name": "stdout",
     "output_type": "stream",
     "text": [
      "Cross-Validation Accuracy Scores [0.75510204 0.75510204 0.87755102 0.75510204 0.7755102  0.81632653\n",
      " 0.83673469 0.7755102  0.67346939 0.83673469 0.83673469 0.73469388\n",
      " 0.83673469 0.85714286 0.75      ]\n",
      "Recall [0.74074074 0.7037037  1.         0.77777778 0.81481481 0.85185185\n",
      " 0.88888889 0.81481481 0.76923077 0.80769231 0.84615385 0.84615385\n",
      " 0.76923077 0.92307692 0.73076923]\n",
      "Precision [0.8        0.82608696 0.81818182 0.77777778 0.78571429 0.82142857\n",
      " 0.82758621 0.78571429 0.66666667 0.875      0.84615385 0.70967742\n",
      " 0.90909091 0.82758621 0.79166667]\n"
     ]
    }
   ],
   "source": [
    "from sklearn.model_selection import cross_val_score\n",
    "\n",
    "scores = cross_val_score(logmodel, X_train_enc, y_train, cv=15)\n",
    "print('Cross-Validation Accuracy Scores', scores)\n",
    "recall = cross_val_score(logmodel, X_train_enc, y_train, cv=15, scoring='recall')\n",
    "print('Recall', recall)\n",
    "precision = cross_val_score(logmodel, X_train_enc, y_train, cv=15, scoring='precision')\n",
    "print('Precision', precision)"
   ]
  },
  {
   "cell_type": "code",
   "execution_count": 217,
   "id": "148ea037",
   "metadata": {},
   "outputs": [
    {
     "data": {
      "text/plain": [
       "(0.673469387755102, 0.7914965986394557, 0.8775510204081632)"
      ]
     },
     "execution_count": 217,
     "metadata": {},
     "output_type": "execute_result"
    }
   ],
   "source": [
    "scores = pd.Series(scores)\n",
    "scores.min(), scores.mean(), scores.max()\n",
    "\n"
   ]
  },
  {
   "cell_type": "code",
   "execution_count": 218,
   "id": "0d93b384",
   "metadata": {},
   "outputs": [
    {
     "data": {
      "text/plain": [
       "(0.7037037037037037, 0.8189933523266858, 1.0)"
      ]
     },
     "execution_count": 218,
     "metadata": {},
     "output_type": "execute_result"
    }
   ],
   "source": [
    "recall = pd.Series(recall)\n",
    "recall.min(), recall.mean(), recall.max()"
   ]
  },
  {
   "cell_type": "code",
   "execution_count": 219,
   "id": "0efae491",
   "metadata": {},
   "outputs": [
    {
     "data": {
      "text/plain": [
       "(0.6666666666666666, 0.8045554411376338, 0.9090909090909091)"
      ]
     },
     "execution_count": 219,
     "metadata": {},
     "output_type": "execute_result"
    }
   ],
   "source": [
    "precision = pd.Series(precision)\n",
    "precision.min(), precision.mean(), precision.max()"
   ]
  },
  {
   "cell_type": "code",
   "execution_count": null,
   "id": "d290d7e2",
   "metadata": {},
   "outputs": [],
   "source": []
  },
  {
   "cell_type": "code",
   "execution_count": null,
   "id": "79e4e987",
   "metadata": {},
   "outputs": [],
   "source": []
  },
  {
   "cell_type": "code",
   "execution_count": null,
   "id": "aed20475",
   "metadata": {},
   "outputs": [],
   "source": []
  },
  {
   "cell_type": "code",
   "execution_count": 26,
   "id": "cc05bda0",
   "metadata": {},
   "outputs": [],
   "source": [
    "from sklearn.ensemble import RandomForestRegressor\n",
    "from sklearn.ensemble import RandomForestClassifier"
   ]
  },
  {
   "cell_type": "markdown",
   "id": "dc395dad",
   "metadata": {},
   "source": [
    "## Random Forest Model"
   ]
  },
  {
   "cell_type": "code",
   "execution_count": 27,
   "id": "fecbae97",
   "metadata": {},
   "outputs": [],
   "source": [
    "RF_model = RandomForestClassifier(n_estimators=100, oob_score=True, random_state=42)"
   ]
  },
  {
   "cell_type": "code",
   "execution_count": 28,
   "id": "55b7eac5",
   "metadata": {},
   "outputs": [
    {
     "data": {
      "text/plain": [
       "RandomForestClassifier(oob_score=True, random_state=42)"
      ]
     },
     "execution_count": 28,
     "metadata": {},
     "output_type": "execute_result"
    }
   ],
   "source": [
    "RF_model.fit(X_train_enc, y_train)"
   ]
  },
  {
   "cell_type": "code",
   "execution_count": 29,
   "id": "3deccfd6",
   "metadata": {},
   "outputs": [],
   "source": [
    "predictions=RF_model.predict(X_test_enc)"
   ]
  },
  {
   "cell_type": "code",
   "execution_count": 30,
   "id": "f8dc9d78",
   "metadata": {},
   "outputs": [
    {
     "data": {
      "text/plain": [
       "'              precision    recall  f1-score   support\\n\\n           0       0.78      0.84      0.81        74\\n           1       0.89      0.85      0.87       110\\n\\n    accuracy                           0.84       184\\n   macro avg       0.84      0.84      0.84       184\\nweighted avg       0.85      0.84      0.84       184\\n'"
      ]
     },
     "execution_count": 30,
     "metadata": {},
     "output_type": "execute_result"
    }
   ],
   "source": [
    "classification_report(y_test,predictions)"
   ]
  },
  {
   "cell_type": "code",
   "execution_count": 31,
   "id": "42b46f1c",
   "metadata": {},
   "outputs": [
    {
     "data": {
      "text/plain": [
       "array([[62, 12],\n",
       "       [17, 93]])"
      ]
     },
     "execution_count": 31,
     "metadata": {},
     "output_type": "execute_result"
    }
   ],
   "source": [
    "confusion_matrix(y_test,predictions)"
   ]
  },
  {
   "cell_type": "code",
   "execution_count": 32,
   "id": "816f05b7",
   "metadata": {},
   "outputs": [
    {
     "data": {
      "text/plain": [
       "0.842391304347826"
      ]
     },
     "execution_count": 32,
     "metadata": {},
     "output_type": "execute_result"
    }
   ],
   "source": [
    "accuracy_score(y_test,predictions)"
   ]
  },
  {
   "cell_type": "code",
   "execution_count": 33,
   "id": "be26a7c0",
   "metadata": {},
   "outputs": [],
   "source": [
    "from sklearn.metrics import precision_score\n",
    "from sklearn.metrics import recall_score"
   ]
  },
  {
   "cell_type": "code",
   "execution_count": 34,
   "id": "b7be9669",
   "metadata": {},
   "outputs": [
    {
     "name": "stdout",
     "output_type": "stream",
     "text": [
      "The Precision Score- we will diagnose yes heart disease correctly at this percent: 0.8857142857142857\n",
      "The Recall Score - We will catch this percent of patients who actually do have heart disease : 0.8454545454545455\n"
     ]
    }
   ],
   "source": [
    "print('The Precision Score- we will diagnose yes heart disease correctly at this percent: ' + str(precision_score(y_test,predictions)))\n",
    "print('The Recall Score - We will catch this percent of patients who actually do have heart disease : ' + str(recall_score(y_test,predictions)))\n"
   ]
  },
  {
   "cell_type": "code",
   "execution_count": 220,
   "id": "4185a11e",
   "metadata": {},
   "outputs": [
    {
     "name": "stdout",
     "output_type": "stream",
     "text": [
      "Cross-Validation Accuracy Scores [0.87755102 0.71428571 0.7755102  0.83673469 0.75510204 0.79591837\n",
      " 0.71428571 0.7755102  0.75510204 0.91836735 0.91836735 0.75510204\n",
      " 0.83673469 0.85714286 0.77083333]\n",
      "Recall [0.88888889 0.66666667 0.88888889 0.77777778 0.81481481 0.81481481\n",
      " 0.74074074 0.85185185 0.84615385 0.92307692 0.96153846 0.80769231\n",
      " 0.76923077 0.92307692 0.76923077]\n",
      "Precision [0.88888889 0.7826087  0.75       0.91304348 0.75862069 0.81481481\n",
      " 0.74074074 0.76666667 0.73333333 0.92307692 0.89285714 0.75\n",
      " 0.90909091 0.82758621 0.8       ]\n"
     ]
    }
   ],
   "source": [
    "from sklearn.model_selection import cross_val_score\n",
    "\n",
    "scores = cross_val_score(RF_model, X_train_enc, y_train, cv=15)\n",
    "print('Cross-Validation Accuracy Scores', scores)\n",
    "recall = cross_val_score(RF_model, X_train_enc, y_train, cv=15, scoring='recall')\n",
    "print('Recall', recall)\n",
    "precision = cross_val_score(RF_model, X_train_enc, y_train, cv=15, scoring='precision')\n",
    "print('Precision', precision)"
   ]
  },
  {
   "cell_type": "code",
   "execution_count": 221,
   "id": "486e1754",
   "metadata": {},
   "outputs": [
    {
     "data": {
      "text/plain": [
       "(0.7142857142857143, 0.8037698412698414, 0.9183673469387755)"
      ]
     },
     "execution_count": 221,
     "metadata": {},
     "output_type": "execute_result"
    }
   ],
   "source": [
    "scores = pd.Series(scores)\n",
    "scores.min(), scores.mean(), scores.max()"
   ]
  },
  {
   "cell_type": "code",
   "execution_count": 222,
   "id": "1b9e7399",
   "metadata": {},
   "outputs": [
    {
     "data": {
      "text/plain": [
       "(0.6666666666666666, 0.8296296296296297, 0.9615384615384616)"
      ]
     },
     "execution_count": 222,
     "metadata": {},
     "output_type": "execute_result"
    }
   ],
   "source": [
    "recall = pd.Series(recall)\n",
    "recall.min(), recall.mean(), recall.max()"
   ]
  },
  {
   "cell_type": "code",
   "execution_count": 230,
   "id": "90f9e4cc",
   "metadata": {},
   "outputs": [
    {
     "data": {
      "text/plain": [
       "(0.7333333333333333, 0.8167552326622791, 0.9230769230769231)"
      ]
     },
     "execution_count": 230,
     "metadata": {},
     "output_type": "execute_result"
    }
   ],
   "source": [
    "precision = pd.Series(precision)\n",
    "precision.min(), precision.mean(), precision.max()"
   ]
  },
  {
   "cell_type": "code",
   "execution_count": null,
   "id": "b18f2620",
   "metadata": {},
   "outputs": [],
   "source": []
  },
  {
   "cell_type": "markdown",
   "id": "b79d5bce",
   "metadata": {},
   "source": [
    "## Feature Importance and Partial Dependence Plot"
   ]
  },
  {
   "cell_type": "code",
   "execution_count": 231,
   "id": "83e55141",
   "metadata": {},
   "outputs": [],
   "source": [
    "importances = RF_model.feature_importances_"
   ]
  },
  {
   "cell_type": "code",
   "execution_count": 232,
   "id": "57f6cd42",
   "metadata": {},
   "outputs": [
    {
     "data": {
      "text/plain": [
       "array([0.14341996, 0.02461329, 0.02613434, 0.1059046 , 0.02539243,\n",
       "       0.01099168, 0.05870843, 0.12054574, 0.13717804, 0.03893243,\n",
       "       0.16592848, 0.06249749, 0.07975309])"
      ]
     },
     "execution_count": 232,
     "metadata": {},
     "output_type": "execute_result"
    }
   ],
   "source": [
    "RF_model.feature_importances_"
   ]
  },
  {
   "cell_type": "code",
   "execution_count": 233,
   "id": "d4c89bf6",
   "metadata": {},
   "outputs": [
    {
     "data": {
      "text/plain": [
       "<AxesSubplot:>"
      ]
     },
     "execution_count": 233,
     "metadata": {},
     "output_type": "execute_result"
    },
    {
     "data": {
      "image/png": "[encoded data removed]",
      "text/plain": [
       "<Figure size 504x432 with 1 Axes>"
      ]
     },
     "metadata": {
      "needs_background": "light"
     },
     "output_type": "display_data"
    }
   ],
   "source": [
    "feature_importances = pd.Series(RF_model.feature_importances_, index=X_train_enc.columns)\n",
    "sorted_features=feature_importances.sort_values()\n",
    "#feature_importances.plot(kind='barh', figsize=(7,6))\n",
    "sorted_features.plot(kind='barh', figsize=(7,6))"
   ]
  },
  {
   "cell_type": "code",
   "execution_count": 234,
   "id": "75d54315",
   "metadata": {},
   "outputs": [],
   "source": [
    "from sklearn.inspection import plot_partial_dependence"
   ]
  },
  {
   "cell_type": "code",
   "execution_count": 235,
   "id": "d2390033",
   "metadata": {},
   "outputs": [
    {
     "data": {
      "text/plain": [
       "Text(0.5, 1.0, 'Partial Dependence Plot for Max Heart Rate')"
      ]
     },
     "execution_count": 235,
     "metadata": {},
     "output_type": "execute_result"
    },
    {
     "data": {
      "image/png": "[encoded data removed]",
      "text/plain": [
       "<Figure size 648x288 with 2 Axes>"
      ]
     },
     "metadata": {
      "needs_background": "light"
     },
     "output_type": "display_data"
    }
   ],
   "source": [
    "fig, ax = plt.subplots(figsize=(9,4))\n",
    "plot_partial_dependence(RF_model, X_train_enc, [\"MaxHR\"], \n",
    "                        grid_resolution=20, ax=ax)\n",
    "plt.title(\"Partial Dependence Plot for Max Heart Rate\")"
   ]
  },
  {
   "cell_type": "code",
   "execution_count": 236,
   "id": "04ecb7e3",
   "metadata": {},
   "outputs": [
    {
     "data": {
      "text/plain": [
       "Text(0.5, 1.0, 'Partial Dependence Plot for Age')"
      ]
     },
     "execution_count": 236,
     "metadata": {},
     "output_type": "execute_result"
    },
    {
     "data": {
      "image/png": "[encoded data removed]",
      "text/plain": [
       "<Figure size 648x288 with 2 Axes>"
      ]
     },
     "metadata": {
      "needs_background": "light"
     },
     "output_type": "display_data"
    }
   ],
   "source": [
    "fig, ax = plt.subplots(figsize=(9,4))\n",
    "plot_partial_dependence(RF_model, X_train_enc, [\"Age\"], \n",
    "                        grid_resolution=20, ax=ax)\n",
    "plt.title(\"Partial Dependence Plot for Age\")"
   ]
  },
  {
   "cell_type": "code",
   "execution_count": 237,
   "id": "6908cec8",
   "metadata": {},
   "outputs": [
    {
     "data": {
      "text/plain": [
       "Text(0.5, 1.0, 'Partial Dependence Plot for Cholesterol')"
      ]
     },
     "execution_count": 237,
     "metadata": {},
     "output_type": "execute_result"
    },
    {
     "data": {
      "image/png": "[encoded data removed]",
      "text/plain": [
       "<Figure size 648x288 with 2 Axes>"
      ]
     },
     "metadata": {
      "needs_background": "light"
     },
     "output_type": "display_data"
    }
   ],
   "source": [
    "fig, ax = plt.subplots(figsize=(9,4))\n",
    "plot_partial_dependence(RF_model, X_train_enc, ['Cholesterol'], \n",
    "                        grid_resolution=20, ax=ax)\n",
    "plt.title(\"Partial Dependence Plot for Cholesterol\")"
   ]
  },
  {
   "cell_type": "code",
   "execution_count": 238,
   "id": "3edd7e2a",
   "metadata": {},
   "outputs": [
    {
     "data": {
      "text/plain": [
       "<sklearn.inspection._plot.partial_dependence.PartialDependenceDisplay at 0x7f842667f850>"
      ]
     },
     "execution_count": 238,
     "metadata": {},
     "output_type": "execute_result"
    },
    {
     "data": {
      "image/png": "[encoded data removed]",
      "text/plain": [
       "<Figure size 1296x288 with 3 Axes>"
      ]
     },
     "metadata": {
      "needs_background": "light"
     },
     "output_type": "display_data"
    }
   ],
   "source": [
    "fig, ax = plt.subplots(figsize=(18,4))\n",
    "plot_partial_dependence(RF_model, X_train_enc, ['Sex_M', 'Sex_F'], \n",
    "                        grid_resolution=20, ax=ax)"
   ]
  },
  {
   "cell_type": "code",
   "execution_count": 239,
   "id": "5358d412",
   "metadata": {},
   "outputs": [
    {
     "data": {
      "text/plain": [
       "<sklearn.inspection._plot.partial_dependence.PartialDependenceDisplay at 0x7f8426784ac0>"
      ]
     },
     "execution_count": 239,
     "metadata": {},
     "output_type": "execute_result"
    },
    {
     "data": {
      "image/png": "[encoded data removed]",
      "text/plain": [
       "<Figure size 1296x288 with 3 Axes>"
      ]
     },
     "metadata": {
      "needs_background": "light"
     },
     "output_type": "display_data"
    }
   ],
   "source": [
    "fig, ax = plt.subplots(figsize=(18,4))\n",
    "plot_partial_dependence(RF_model, X_train_enc, ['ExerciseAngina_Y', \"ExerciseAngina_N\"], \n",
    "                        grid_resolution=20, ax=ax)"
   ]
  },
  {
   "cell_type": "markdown",
   "id": "2011ae37",
   "metadata": {},
   "source": [
    "# Heart disease prediction without completing ECG analysis.  "
   ]
  },
  {
   "cell_type": "markdown",
   "id": "5ccac808",
   "metadata": {},
   "source": [
    "#### Imagine there is a backlog for ECG analysis and an the decision is made to complete a preliminary analysis on patients before determing the next steps.  If we have a patient with high probablity of heart disease based on quick data collection, we would act accordingly.  Contrarily, if we had a patient with very low probablity of heart disease based on quick data collection, we may act differently.  The intention here is to show how this tool could be useful in a fast moving & real life scenario."
   ]
  },
  {
   "cell_type": "code",
   "execution_count": 392,
   "id": "6d6142e8",
   "metadata": {},
   "outputs": [
    {
     "name": "stdout",
     "output_type": "stream",
     "text": [
      "What is the Max Heart Rate of the patient?150\n",
      "How old is the patient?65\n",
      "What is the sex of the patient (M or F)?F\n",
      "What is resting blood pressure reading of the patient?150\n",
      "What is the cholesterol reading?220\n",
      "Is the patient here for exercise induced angina (Y or N) ?N\n",
      "What is the fasting blood sugar of the patient? [1: if FastingBS > 120 mg/dl, 0: otherwise]1\n",
      "Describe the chest pain type (make sure to use capital letters): [TA: Typical Angina, ATA: Atypical Angina, NAP: Non-Anginal Pain, ASY: Asymptomatic]NAP\n",
      "~~~~~~~~~~~~~~~~~~~~~~~~~\n",
      "~~~~~~~~~~~~~~~~~~~~~~~~~\n",
      "~~~~~~~~~~~~~~~~~~~~~~~~~\n",
      "Before getting an ECG evaluation on the patient, let's determine the current probability of heart disease\n"
     ]
    }
   ],
   "source": [
    "d = {}\n",
    "d['MaxHR'] = float(input('What is the Max Heart Rate of the patient?').casefold())\n",
    "d['Age'] = float(input('How old is the patient?').casefold())\n",
    "d['Sex'] = input('What is the sex of the patient (M or F)?').casefold()\n",
    "d['RestingBP'] = float(input('What is resting blood pressure reading of the patient?').casefold())\n",
    "d['Cholesterol'] = float(input('What is the cholesterol reading?').casefold())\n",
    "d['ExerciseAngina'] = input('Is the patient here for exercise induced angina (Y or N) ?').casefold()\n",
    "d['FastingBS'] = float(input('What is the fasting blood sugar of the patient? [1: if FastingBS > 120 mg/dl, 0: otherwise]').casefold())\n",
    "d['ChestPainType'] = input('Describe the chest pain type (make sure to use capital letters): [TA: Typical Angina, ATA: Atypical Angina, NAP: Non-Anginal Pain, ASY: Asymptomatic]').casefold()\n",
    "\n",
    "print('~~~~~~~~~~~~~~~~~~~~~~~~~')\n",
    "print('~~~~~~~~~~~~~~~~~~~~~~~~~')\n",
    "print('~~~~~~~~~~~~~~~~~~~~~~~~~')\n",
    "print(\"Before getting an ECG evaluation on the patient, let's determine the current probability of heart disease\")"
   ]
  },
  {
   "cell_type": "code",
   "execution_count": 393,
   "id": "a808a42d",
   "metadata": {},
   "outputs": [
    {
     "data": {
      "text/plain": [
       "{'MaxHR': 150.0,\n",
       " 'Age': 65.0,\n",
       " 'Sex': 'f',\n",
       " 'RestingBP': 150.0,\n",
       " 'Cholesterol': 220.0,\n",
       " 'ExerciseAngina': 'n',\n",
       " 'FastingBS': 1.0,\n",
       " 'ChestPainType': 'nap'}"
      ]
     },
     "execution_count": 393,
     "metadata": {},
     "output_type": "execute_result"
    }
   ],
   "source": [
    "\n",
    "d"
   ]
  },
  {
   "cell_type": "code",
   "execution_count": 394,
   "id": "a4f54183",
   "metadata": {},
   "outputs": [],
   "source": [
    "for k,v in d.items():\n",
    "    if k=='Sex':\n",
    "        d.update({k: v.upper()})\n",
    "    if k=='ExerciseAngina':\n",
    "        d.update({k: v.upper()})\n",
    "    if k=='ChestPainType':\n",
    "        d.update({k: v.upper()})"
   ]
  },
  {
   "cell_type": "code",
   "execution_count": 395,
   "id": "aa08a7be",
   "metadata": {},
   "outputs": [
    {
     "data": {
      "text/plain": [
       "{'MaxHR': 150.0,\n",
       " 'Age': 65.0,\n",
       " 'Sex': 'F',\n",
       " 'RestingBP': 150.0,\n",
       " 'Cholesterol': 220.0,\n",
       " 'ExerciseAngina': 'N',\n",
       " 'FastingBS': 1.0,\n",
       " 'ChestPainType': 'NAP'}"
      ]
     },
     "execution_count": 395,
     "metadata": {},
     "output_type": "execute_result"
    }
   ],
   "source": [
    "d"
   ]
  },
  {
   "cell_type": "code",
   "execution_count": 396,
   "id": "8591e9f6",
   "metadata": {},
   "outputs": [],
   "source": [
    "unseen=pd.DataFrame(d.items(), index=d).T"
   ]
  },
  {
   "cell_type": "code",
   "execution_count": 397,
   "id": "0cbb8fa8",
   "metadata": {},
   "outputs": [],
   "source": [
    "unseen=unseen.drop([0])"
   ]
  },
  {
   "cell_type": "code",
   "execution_count": 398,
   "id": "e3001fff",
   "metadata": {},
   "outputs": [],
   "source": [
    "unseen1=unseen.drop(columns=['Sex', 'ExerciseAngina', 'ChestPainType'])"
   ]
  },
  {
   "cell_type": "code",
   "execution_count": 399,
   "id": "acbab67a",
   "metadata": {},
   "outputs": [
    {
     "data": {
      "text/html": [
       "<div>\n",
       "<style scoped>\n",
       "    .dataframe tbody tr th:only-of-type {\n",
       "        vertical-align: middle;\n",
       "    }\n",
       "\n",
       "    .dataframe tbody tr th {\n",
       "        vertical-align: top;\n",
       "    }\n",
       "\n",
       "    .dataframe thead th {\n",
       "        text-align: right;\n",
       "    }\n",
       "</style>\n",
       "<table border=\"1\" class=\"dataframe\">\n",
       "  <thead>\n",
       "    <tr style=\"text-align: right;\">\n",
       "      <th></th>\n",
       "      <th>MaxHR</th>\n",
       "      <th>Age</th>\n",
       "      <th>RestingBP</th>\n",
       "      <th>Cholesterol</th>\n",
       "      <th>FastingBS</th>\n",
       "    </tr>\n",
       "  </thead>\n",
       "  <tbody>\n",
       "    <tr>\n",
       "      <th>1</th>\n",
       "      <td>150.0</td>\n",
       "      <td>65.0</td>\n",
       "      <td>150.0</td>\n",
       "      <td>220.0</td>\n",
       "      <td>1.0</td>\n",
       "    </tr>\n",
       "  </tbody>\n",
       "</table>\n",
       "</div>"
      ],
      "text/plain": [
       "   MaxHR   Age RestingBP Cholesterol FastingBS\n",
       "1  150.0  65.0     150.0       220.0       1.0"
      ]
     },
     "execution_count": 399,
     "metadata": {},
     "output_type": "execute_result"
    }
   ],
   "source": [
    "unseen1"
   ]
  },
  {
   "cell_type": "markdown",
   "id": "055cd2c4",
   "metadata": {},
   "source": [
    "I will need to convert the categorical values to numeric values so that the model can run"
   ]
  },
  {
   "cell_type": "code",
   "execution_count": 400,
   "id": "f7026009",
   "metadata": {},
   "outputs": [],
   "source": [
    "encoder2 = ce.OneHotEncoder(use_cat_names=True)"
   ]
  },
  {
   "cell_type": "code",
   "execution_count": null,
   "id": "e7c544e2",
   "metadata": {},
   "outputs": [],
   "source": []
  },
  {
   "cell_type": "code",
   "execution_count": 401,
   "id": "35a2c9b8",
   "metadata": {},
   "outputs": [],
   "source": [
    "encoder2.fit(unseen[['Sex', 'ExerciseAngina', 'ChestPainType']])\n",
    "unseen_enc = encoder2.transform(unseen[['Sex', 'ExerciseAngina', 'ChestPainType']])"
   ]
  },
  {
   "cell_type": "code",
   "execution_count": 402,
   "id": "c8205526",
   "metadata": {},
   "outputs": [
    {
     "data": {
      "text/html": [
       "<div>\n",
       "<style scoped>\n",
       "    .dataframe tbody tr th:only-of-type {\n",
       "        vertical-align: middle;\n",
       "    }\n",
       "\n",
       "    .dataframe tbody tr th {\n",
       "        vertical-align: top;\n",
       "    }\n",
       "\n",
       "    .dataframe thead th {\n",
       "        text-align: right;\n",
       "    }\n",
       "</style>\n",
       "<table border=\"1\" class=\"dataframe\">\n",
       "  <thead>\n",
       "    <tr style=\"text-align: right;\">\n",
       "      <th></th>\n",
       "      <th>Sex_F</th>\n",
       "      <th>ExerciseAngina_N</th>\n",
       "      <th>ChestPainType_NAP</th>\n",
       "    </tr>\n",
       "  </thead>\n",
       "  <tbody>\n",
       "    <tr>\n",
       "      <th>1</th>\n",
       "      <td>1</td>\n",
       "      <td>1</td>\n",
       "      <td>1</td>\n",
       "    </tr>\n",
       "  </tbody>\n",
       "</table>\n",
       "</div>"
      ],
      "text/plain": [
       "   Sex_F  ExerciseAngina_N  ChestPainType_NAP\n",
       "1      1                 1                  1"
      ]
     },
     "execution_count": 402,
     "metadata": {},
     "output_type": "execute_result"
    }
   ],
   "source": [
    "unseen_enc"
   ]
  },
  {
   "cell_type": "code",
   "execution_count": 403,
   "id": "adfb872e",
   "metadata": {},
   "outputs": [],
   "source": [
    "unseen_with_encoding = pd.concat([unseen_enc, unseen1], axis=1, join=\"inner\")"
   ]
  },
  {
   "cell_type": "code",
   "execution_count": 404,
   "id": "eaada3a0",
   "metadata": {},
   "outputs": [
    {
     "data": {
      "text/html": [
       "<div>\n",
       "<style scoped>\n",
       "    .dataframe tbody tr th:only-of-type {\n",
       "        vertical-align: middle;\n",
       "    }\n",
       "\n",
       "    .dataframe tbody tr th {\n",
       "        vertical-align: top;\n",
       "    }\n",
       "\n",
       "    .dataframe thead th {\n",
       "        text-align: right;\n",
       "    }\n",
       "</style>\n",
       "<table border=\"1\" class=\"dataframe\">\n",
       "  <thead>\n",
       "    <tr style=\"text-align: right;\">\n",
       "      <th></th>\n",
       "      <th>Sex_F</th>\n",
       "      <th>ExerciseAngina_N</th>\n",
       "      <th>ChestPainType_NAP</th>\n",
       "      <th>MaxHR</th>\n",
       "      <th>Age</th>\n",
       "      <th>RestingBP</th>\n",
       "      <th>Cholesterol</th>\n",
       "      <th>FastingBS</th>\n",
       "    </tr>\n",
       "  </thead>\n",
       "  <tbody>\n",
       "    <tr>\n",
       "      <th>1</th>\n",
       "      <td>1</td>\n",
       "      <td>1</td>\n",
       "      <td>1</td>\n",
       "      <td>150.0</td>\n",
       "      <td>65.0</td>\n",
       "      <td>150.0</td>\n",
       "      <td>220.0</td>\n",
       "      <td>1.0</td>\n",
       "    </tr>\n",
       "  </tbody>\n",
       "</table>\n",
       "</div>"
      ],
      "text/plain": [
       "   Sex_F  ExerciseAngina_N  ChestPainType_NAP  MaxHR   Age RestingBP  \\\n",
       "1      1                 1                  1  150.0  65.0     150.0   \n",
       "\n",
       "  Cholesterol FastingBS  \n",
       "1       220.0       1.0  "
      ]
     },
     "execution_count": 404,
     "metadata": {},
     "output_type": "execute_result"
    }
   ],
   "source": [
    "unseen_with_encoding"
   ]
  },
  {
   "cell_type": "code",
   "execution_count": 405,
   "id": "2714f399",
   "metadata": {},
   "outputs": [],
   "source": [
    "list1=list(unseen_with_encoding.columns.values)"
   ]
  },
  {
   "cell_type": "code",
   "execution_count": 406,
   "id": "4ea5038e",
   "metadata": {},
   "outputs": [
    {
     "data": {
      "text/plain": [
       "['Sex_F',\n",
       " 'ExerciseAngina_N',\n",
       " 'ChestPainType_NAP',\n",
       " 'MaxHR',\n",
       " 'Age',\n",
       " 'RestingBP',\n",
       " 'Cholesterol',\n",
       " 'FastingBS']"
      ]
     },
     "execution_count": 406,
     "metadata": {},
     "output_type": "execute_result"
    }
   ],
   "source": [
    "list1"
   ]
  },
  {
   "cell_type": "code",
   "execution_count": 407,
   "id": "a1439cfa",
   "metadata": {},
   "outputs": [],
   "source": [
    "sample=X_train_enc"
   ]
  },
  {
   "cell_type": "code",
   "execution_count": 408,
   "id": "a6971b51",
   "metadata": {},
   "outputs": [],
   "source": [
    "for column in list1:\n",
    "    sample=sample.drop(columns=column)\n"
   ]
  },
  {
   "cell_type": "code",
   "execution_count": 409,
   "id": "2421895f",
   "metadata": {},
   "outputs": [
    {
     "data": {
      "text/html": [
       "<div>\n",
       "<style scoped>\n",
       "    .dataframe tbody tr th:only-of-type {\n",
       "        vertical-align: middle;\n",
       "    }\n",
       "\n",
       "    .dataframe tbody tr th {\n",
       "        vertical-align: top;\n",
       "    }\n",
       "\n",
       "    .dataframe thead th {\n",
       "        text-align: right;\n",
       "    }\n",
       "</style>\n",
       "<table border=\"1\" class=\"dataframe\">\n",
       "  <thead>\n",
       "    <tr style=\"text-align: right;\">\n",
       "      <th></th>\n",
       "      <th>Sex_M</th>\n",
       "      <th>ChestPainType_ASY</th>\n",
       "      <th>ChestPainType_TA</th>\n",
       "      <th>ChestPainType_ATA</th>\n",
       "      <th>ExerciseAngina_Y</th>\n",
       "    </tr>\n",
       "  </thead>\n",
       "  <tbody>\n",
       "    <tr>\n",
       "      <th>852</th>\n",
       "      <td>1</td>\n",
       "      <td>1</td>\n",
       "      <td>0</td>\n",
       "      <td>0</td>\n",
       "      <td>1</td>\n",
       "    </tr>\n",
       "    <tr>\n",
       "      <th>121</th>\n",
       "      <td>0</td>\n",
       "      <td>0</td>\n",
       "      <td>0</td>\n",
       "      <td>0</td>\n",
       "      <td>0</td>\n",
       "    </tr>\n",
       "    <tr>\n",
       "      <th>664</th>\n",
       "      <td>0</td>\n",
       "      <td>1</td>\n",
       "      <td>0</td>\n",
       "      <td>0</td>\n",
       "      <td>0</td>\n",
       "    </tr>\n",
       "    <tr>\n",
       "      <th>187</th>\n",
       "      <td>1</td>\n",
       "      <td>1</td>\n",
       "      <td>0</td>\n",
       "      <td>0</td>\n",
       "      <td>1</td>\n",
       "    </tr>\n",
       "    <tr>\n",
       "      <th>108</th>\n",
       "      <td>1</td>\n",
       "      <td>1</td>\n",
       "      <td>0</td>\n",
       "      <td>0</td>\n",
       "      <td>0</td>\n",
       "    </tr>\n",
       "    <tr>\n",
       "      <th>...</th>\n",
       "      <td>...</td>\n",
       "      <td>...</td>\n",
       "      <td>...</td>\n",
       "      <td>...</td>\n",
       "      <td>...</td>\n",
       "    </tr>\n",
       "    <tr>\n",
       "      <th>767</th>\n",
       "      <td>0</td>\n",
       "      <td>0</td>\n",
       "      <td>0</td>\n",
       "      <td>0</td>\n",
       "      <td>0</td>\n",
       "    </tr>\n",
       "    <tr>\n",
       "      <th>72</th>\n",
       "      <td>1</td>\n",
       "      <td>1</td>\n",
       "      <td>0</td>\n",
       "      <td>0</td>\n",
       "      <td>0</td>\n",
       "    </tr>\n",
       "    <tr>\n",
       "      <th>908</th>\n",
       "      <td>1</td>\n",
       "      <td>1</td>\n",
       "      <td>0</td>\n",
       "      <td>0</td>\n",
       "      <td>1</td>\n",
       "    </tr>\n",
       "    <tr>\n",
       "      <th>235</th>\n",
       "      <td>1</td>\n",
       "      <td>0</td>\n",
       "      <td>0</td>\n",
       "      <td>1</td>\n",
       "      <td>1</td>\n",
       "    </tr>\n",
       "    <tr>\n",
       "      <th>37</th>\n",
       "      <td>0</td>\n",
       "      <td>0</td>\n",
       "      <td>0</td>\n",
       "      <td>1</td>\n",
       "      <td>0</td>\n",
       "    </tr>\n",
       "  </tbody>\n",
       "</table>\n",
       "<p>734 rows × 5 columns</p>\n",
       "</div>"
      ],
      "text/plain": [
       "     Sex_M  ChestPainType_ASY  ChestPainType_TA  ChestPainType_ATA  \\\n",
       "852      1                  1                 0                  0   \n",
       "121      0                  0                 0                  0   \n",
       "664      0                  1                 0                  0   \n",
       "187      1                  1                 0                  0   \n",
       "108      1                  1                 0                  0   \n",
       "..     ...                ...               ...                ...   \n",
       "767      0                  0                 0                  0   \n",
       "72       1                  1                 0                  0   \n",
       "908      1                  1                 0                  0   \n",
       "235      1                  0                 0                  1   \n",
       "37       0                  0                 0                  1   \n",
       "\n",
       "     ExerciseAngina_Y  \n",
       "852                 1  \n",
       "121                 0  \n",
       "664                 0  \n",
       "187                 1  \n",
       "108                 0  \n",
       "..                ...  \n",
       "767                 0  \n",
       "72                  0  \n",
       "908                 1  \n",
       "235                 1  \n",
       "37                  0  \n",
       "\n",
       "[734 rows x 5 columns]"
      ]
     },
     "execution_count": 409,
     "metadata": {},
     "output_type": "execute_result"
    }
   ],
   "source": [
    "sample"
   ]
  },
  {
   "cell_type": "markdown",
   "id": "5999ea96",
   "metadata": {},
   "source": [
    "##### Next, I need to create an empty dataframe with all column names present"
   ]
  },
  {
   "cell_type": "code",
   "execution_count": 410,
   "id": "7da4d96e",
   "metadata": {},
   "outputs": [],
   "source": [
    "sample_empty=sample[0:0]"
   ]
  },
  {
   "cell_type": "code",
   "execution_count": 411,
   "id": "dbb09fab",
   "metadata": {},
   "outputs": [
    {
     "data": {
      "text/html": [
       "<div>\n",
       "<style scoped>\n",
       "    .dataframe tbody tr th:only-of-type {\n",
       "        vertical-align: middle;\n",
       "    }\n",
       "\n",
       "    .dataframe tbody tr th {\n",
       "        vertical-align: top;\n",
       "    }\n",
       "\n",
       "    .dataframe thead th {\n",
       "        text-align: right;\n",
       "    }\n",
       "</style>\n",
       "<table border=\"1\" class=\"dataframe\">\n",
       "  <thead>\n",
       "    <tr style=\"text-align: right;\">\n",
       "      <th></th>\n",
       "      <th>Sex_M</th>\n",
       "      <th>ChestPainType_ASY</th>\n",
       "      <th>ChestPainType_TA</th>\n",
       "      <th>ChestPainType_ATA</th>\n",
       "      <th>ExerciseAngina_Y</th>\n",
       "    </tr>\n",
       "  </thead>\n",
       "  <tbody>\n",
       "  </tbody>\n",
       "</table>\n",
       "</div>"
      ],
      "text/plain": [
       "Empty DataFrame\n",
       "Columns: [Sex_M, ChestPainType_ASY, ChestPainType_TA, ChestPainType_ATA, ExerciseAngina_Y]\n",
       "Index: []"
      ]
     },
     "execution_count": 411,
     "metadata": {},
     "output_type": "execute_result"
    }
   ],
   "source": [
    "sample_empty"
   ]
  },
  {
   "cell_type": "code",
   "execution_count": 412,
   "id": "b5cf2089",
   "metadata": {},
   "outputs": [
    {
     "name": "stderr",
     "output_type": "stream",
     "text": [
      "<ipython-input-412-701b61e1d127>:1: DeprecationWarning: The default dtype for empty Series will be 'object' instead of 'float64' in a future version. Specify a dtype explicitly to silence this warning.\n",
      "  sample_empty1=sample_empty.append(pd.Series(), ignore_index=True)\n"
     ]
    }
   ],
   "source": [
    "sample_empty1=sample_empty.append(pd.Series(), ignore_index=True)"
   ]
  },
  {
   "cell_type": "code",
   "execution_count": 413,
   "id": "fad7b4f2",
   "metadata": {},
   "outputs": [],
   "source": [
    "sample_empty1=sample_empty1.fillna(0)"
   ]
  },
  {
   "cell_type": "code",
   "execution_count": 414,
   "id": "8f55ec00",
   "metadata": {},
   "outputs": [
    {
     "data": {
      "text/html": [
       "<div>\n",
       "<style scoped>\n",
       "    .dataframe tbody tr th:only-of-type {\n",
       "        vertical-align: middle;\n",
       "    }\n",
       "\n",
       "    .dataframe tbody tr th {\n",
       "        vertical-align: top;\n",
       "    }\n",
       "\n",
       "    .dataframe thead th {\n",
       "        text-align: right;\n",
       "    }\n",
       "</style>\n",
       "<table border=\"1\" class=\"dataframe\">\n",
       "  <thead>\n",
       "    <tr style=\"text-align: right;\">\n",
       "      <th></th>\n",
       "      <th>Sex_M</th>\n",
       "      <th>ChestPainType_ASY</th>\n",
       "      <th>ChestPainType_TA</th>\n",
       "      <th>ChestPainType_ATA</th>\n",
       "      <th>ExerciseAngina_Y</th>\n",
       "    </tr>\n",
       "  </thead>\n",
       "  <tbody>\n",
       "    <tr>\n",
       "      <th>0</th>\n",
       "      <td>0.0</td>\n",
       "      <td>0.0</td>\n",
       "      <td>0.0</td>\n",
       "      <td>0.0</td>\n",
       "      <td>0.0</td>\n",
       "    </tr>\n",
       "  </tbody>\n",
       "</table>\n",
       "</div>"
      ],
      "text/plain": [
       "   Sex_M  ChestPainType_ASY  ChestPainType_TA  ChestPainType_ATA  \\\n",
       "0    0.0                0.0               0.0                0.0   \n",
       "\n",
       "   ExerciseAngina_Y  \n",
       "0               0.0  "
      ]
     },
     "execution_count": 414,
     "metadata": {},
     "output_type": "execute_result"
    }
   ],
   "source": [
    "sample_empty1"
   ]
  },
  {
   "cell_type": "code",
   "execution_count": 415,
   "id": "368cf006",
   "metadata": {},
   "outputs": [
    {
     "data": {
      "text/html": [
       "<div>\n",
       "<style scoped>\n",
       "    .dataframe tbody tr th:only-of-type {\n",
       "        vertical-align: middle;\n",
       "    }\n",
       "\n",
       "    .dataframe tbody tr th {\n",
       "        vertical-align: top;\n",
       "    }\n",
       "\n",
       "    .dataframe thead th {\n",
       "        text-align: right;\n",
       "    }\n",
       "</style>\n",
       "<table border=\"1\" class=\"dataframe\">\n",
       "  <thead>\n",
       "    <tr style=\"text-align: right;\">\n",
       "      <th></th>\n",
       "      <th>Sex_F</th>\n",
       "      <th>ExerciseAngina_N</th>\n",
       "      <th>ChestPainType_NAP</th>\n",
       "      <th>MaxHR</th>\n",
       "      <th>Age</th>\n",
       "      <th>RestingBP</th>\n",
       "      <th>Cholesterol</th>\n",
       "      <th>FastingBS</th>\n",
       "    </tr>\n",
       "  </thead>\n",
       "  <tbody>\n",
       "    <tr>\n",
       "      <th>1</th>\n",
       "      <td>1</td>\n",
       "      <td>1</td>\n",
       "      <td>1</td>\n",
       "      <td>150.0</td>\n",
       "      <td>65.0</td>\n",
       "      <td>150.0</td>\n",
       "      <td>220.0</td>\n",
       "      <td>1.0</td>\n",
       "    </tr>\n",
       "  </tbody>\n",
       "</table>\n",
       "</div>"
      ],
      "text/plain": [
       "   Sex_F  ExerciseAngina_N  ChestPainType_NAP  MaxHR   Age RestingBP  \\\n",
       "1      1                 1                  1  150.0  65.0     150.0   \n",
       "\n",
       "  Cholesterol FastingBS  \n",
       "1       220.0       1.0  "
      ]
     },
     "execution_count": 415,
     "metadata": {},
     "output_type": "execute_result"
    }
   ],
   "source": [
    "unseen_with_encoding"
   ]
  },
  {
   "cell_type": "code",
   "execution_count": 416,
   "id": "f4cd3d3c",
   "metadata": {},
   "outputs": [],
   "source": [
    "merged= unseen_with_encoding.join(sample_empty1)"
   ]
  },
  {
   "cell_type": "code",
   "execution_count": 417,
   "id": "113bd1b8",
   "metadata": {},
   "outputs": [],
   "source": [
    "merged=merged.fillna(0)"
   ]
  },
  {
   "cell_type": "code",
   "execution_count": 418,
   "id": "d9de167e",
   "metadata": {},
   "outputs": [],
   "source": [
    "merged['MaxHR'] = merged['MaxHR'].apply(np.int64)\n",
    "merged['Age'] = merged['Age'].apply(np.int64)\n",
    "merged['RestingBP'] = merged['RestingBP'].apply(np.int64)\n",
    "merged['Cholesterol'] = merged['Cholesterol'].apply(np.int64)\n",
    "merged['Sex_F'] = merged['Sex_F'].apply(np.int64)\n",
    "merged['Sex_M'] = merged['Sex_M'].apply(np.int64)\n",
    "merged['ExerciseAngina_N'] = merged['ExerciseAngina_N'].apply(np.int64)\n",
    "merged['ExerciseAngina_Y'] = merged['ExerciseAngina_Y'].apply(np.int64)\n",
    "merged['FastingBS'] = merged['FastingBS'].apply(np.int64)\n",
    "merged['ChestPainType_NAP'] = merged['ChestPainType_NAP'].apply(np.int64)\n",
    "merged['ChestPainType_TA'] = merged['ChestPainType_TA'].apply(np.int64)\n",
    "merged['ChestPainType_ASY'] = merged['ChestPainType_ASY'].apply(np.int64)\n",
    "merged['ChestPainType_ATA'] = merged['ChestPainType_ATA'].apply(np.int64)\n"
   ]
  },
  {
   "cell_type": "code",
   "execution_count": null,
   "id": "1ab2e951",
   "metadata": {},
   "outputs": [],
   "source": []
  },
  {
   "cell_type": "code",
   "execution_count": null,
   "id": "2aee8262",
   "metadata": {},
   "outputs": [],
   "source": []
  },
  {
   "cell_type": "code",
   "execution_count": 419,
   "id": "c192cc74",
   "metadata": {},
   "outputs": [],
   "source": [
    "merged=merged[['Age','Sex_M','Sex_F','ChestPainType_ASY','ChestPainType_NAP','ChestPainType_TA','ChestPainType_ATA',\n",
    "             'RestingBP', 'Cholesterol', 'FastingBS', 'MaxHR', 'ExerciseAngina_Y', 'ExerciseAngina_N']]"
   ]
  },
  {
   "cell_type": "code",
   "execution_count": null,
   "id": "26bf6f6f",
   "metadata": {},
   "outputs": [],
   "source": []
  },
  {
   "cell_type": "code",
   "execution_count": 420,
   "id": "376e9be2",
   "metadata": {},
   "outputs": [
    {
     "name": "stdout",
     "output_type": "stream",
     "text": [
      "<class 'pandas.core.frame.DataFrame'>\n",
      "Int64Index: 1 entries, 1 to 1\n",
      "Data columns (total 13 columns):\n",
      " #   Column             Non-Null Count  Dtype\n",
      "---  ------             --------------  -----\n",
      " 0   Age                1 non-null      int64\n",
      " 1   Sex_M              1 non-null      int64\n",
      " 2   Sex_F              1 non-null      int64\n",
      " 3   ChestPainType_ASY  1 non-null      int64\n",
      " 4   ChestPainType_NAP  1 non-null      int64\n",
      " 5   ChestPainType_TA   1 non-null      int64\n",
      " 6   ChestPainType_ATA  1 non-null      int64\n",
      " 7   RestingBP          1 non-null      int64\n",
      " 8   Cholesterol        1 non-null      int64\n",
      " 9   FastingBS          1 non-null      int64\n",
      " 10  MaxHR              1 non-null      int64\n",
      " 11  ExerciseAngina_Y   1 non-null      int64\n",
      " 12  ExerciseAngina_N   1 non-null      int64\n",
      "dtypes: int64(13)\n",
      "memory usage: 220.0 bytes\n"
     ]
    }
   ],
   "source": [
    "merged.info()"
   ]
  },
  {
   "cell_type": "code",
   "execution_count": 421,
   "id": "2c4b2169",
   "metadata": {},
   "outputs": [
    {
     "data": {
      "text/plain": [
       "Index(['Age', 'Sex_M', 'Sex_F', 'ChestPainType_ASY', 'ChestPainType_NAP',\n",
       "       'ChestPainType_TA', 'ChestPainType_ATA', 'RestingBP', 'Cholesterol',\n",
       "       'FastingBS', 'MaxHR', 'ExerciseAngina_Y', 'ExerciseAngina_N'],\n",
       "      dtype='object')"
      ]
     },
     "execution_count": 421,
     "metadata": {},
     "output_type": "execute_result"
    }
   ],
   "source": [
    "merged.columns"
   ]
  },
  {
   "cell_type": "code",
   "execution_count": 422,
   "id": "68290fa3",
   "metadata": {},
   "outputs": [
    {
     "data": {
      "text/html": [
       "<div>\n",
       "<style scoped>\n",
       "    .dataframe tbody tr th:only-of-type {\n",
       "        vertical-align: middle;\n",
       "    }\n",
       "\n",
       "    .dataframe tbody tr th {\n",
       "        vertical-align: top;\n",
       "    }\n",
       "\n",
       "    .dataframe thead th {\n",
       "        text-align: right;\n",
       "    }\n",
       "</style>\n",
       "<table border=\"1\" class=\"dataframe\">\n",
       "  <thead>\n",
       "    <tr style=\"text-align: right;\">\n",
       "      <th></th>\n",
       "      <th>Age</th>\n",
       "      <th>Sex_M</th>\n",
       "      <th>Sex_F</th>\n",
       "      <th>ChestPainType_ASY</th>\n",
       "      <th>ChestPainType_NAP</th>\n",
       "      <th>ChestPainType_TA</th>\n",
       "      <th>ChestPainType_ATA</th>\n",
       "      <th>RestingBP</th>\n",
       "      <th>Cholesterol</th>\n",
       "      <th>FastingBS</th>\n",
       "      <th>MaxHR</th>\n",
       "      <th>ExerciseAngina_Y</th>\n",
       "      <th>ExerciseAngina_N</th>\n",
       "    </tr>\n",
       "  </thead>\n",
       "  <tbody>\n",
       "    <tr>\n",
       "      <th>1</th>\n",
       "      <td>65</td>\n",
       "      <td>0</td>\n",
       "      <td>1</td>\n",
       "      <td>0</td>\n",
       "      <td>1</td>\n",
       "      <td>0</td>\n",
       "      <td>0</td>\n",
       "      <td>150</td>\n",
       "      <td>220</td>\n",
       "      <td>1</td>\n",
       "      <td>150</td>\n",
       "      <td>0</td>\n",
       "      <td>1</td>\n",
       "    </tr>\n",
       "  </tbody>\n",
       "</table>\n",
       "</div>"
      ],
      "text/plain": [
       "   Age  Sex_M  Sex_F  ChestPainType_ASY  ChestPainType_NAP  ChestPainType_TA  \\\n",
       "1   65      0      1                  0                  1                 0   \n",
       "\n",
       "   ChestPainType_ATA  RestingBP  Cholesterol  FastingBS  MaxHR  \\\n",
       "1                  0        150          220          1    150   \n",
       "\n",
       "   ExerciseAngina_Y  ExerciseAngina_N  \n",
       "1                 0                 1  "
      ]
     },
     "execution_count": 422,
     "metadata": {},
     "output_type": "execute_result"
    }
   ],
   "source": [
    "merged"
   ]
  },
  {
   "cell_type": "markdown",
   "id": "99cf0f3b",
   "metadata": {},
   "source": [
    "## Predict heart disease within  existing model"
   ]
  },
  {
   "cell_type": "code",
   "execution_count": 423,
   "id": "66f0e327",
   "metadata": {},
   "outputs": [
    {
     "data": {
      "text/plain": [
       "array([[ 65,   0,   1,   0,   1,   0,   0, 150, 220,   1, 150,   0,   1]])"
      ]
     },
     "execution_count": 423,
     "metadata": {},
     "output_type": "execute_result"
    }
   ],
   "source": [
    "merged.values"
   ]
  },
  {
   "cell_type": "code",
   "execution_count": 424,
   "id": "511b76b3",
   "metadata": {},
   "outputs": [],
   "source": [
    "pred_logmodel= RF_model.predict(merged.values)"
   ]
  },
  {
   "cell_type": "code",
   "execution_count": 425,
   "id": "82914589",
   "metadata": {},
   "outputs": [
    {
     "data": {
      "text/plain": [
       "array([0])"
      ]
     },
     "execution_count": 425,
     "metadata": {},
     "output_type": "execute_result"
    }
   ],
   "source": [
    "pred_logmodel"
   ]
  },
  {
   "cell_type": "code",
   "execution_count": 426,
   "id": "b5e579b3",
   "metadata": {},
   "outputs": [],
   "source": [
    "pred_logmodel2= RF_model.predict_proba(merged.values)"
   ]
  },
  {
   "cell_type": "code",
   "execution_count": 427,
   "id": "b5f35d37",
   "metadata": {
    "scrolled": true
   },
   "outputs": [
    {
     "name": "stdout",
     "output_type": "stream",
     "text": [
      "Probablity of heart disease no on left, probability of yes on right\n"
     ]
    },
    {
     "data": {
      "text/plain": [
       "array([[0.74, 0.26]])"
      ]
     },
     "execution_count": 427,
     "metadata": {},
     "output_type": "execute_result"
    }
   ],
   "source": [
    "print(\"Probablity of heart disease no on left, probability of yes on right\")\n",
    "pred_logmodel2"
   ]
  },
  {
   "cell_type": "code",
   "execution_count": 428,
   "id": "ce4204cb",
   "metadata": {},
   "outputs": [
    {
     "name": "stdout",
     "output_type": "stream",
     "text": [
      "According to this model, it is unlikely that this patient has heart disease and\n",
      "the probablity of this patient having heart disease is:\n",
      "% 26.0\n"
     ]
    }
   ],
   "source": [
    "if pred_logmodel==1:\n",
    "    print('According to this model, it is likely that this patient has heart disease and') \n",
    "    print('the probablity of this patient having heart disease is:')\n",
    "    print('')\n",
    "    print('%', pred_logmodel2[0,1]*100)\n",
    "if pred_logmodel!=1:\n",
    "    print('According to this model, it is unlikely that this patient has heart disease and') \n",
    "    print('the probablity of this patient having heart disease is:')\n",
    "    print('%', pred_logmodel2[0,1]*100)\n"
   ]
  },
  {
   "cell_type": "code",
   "execution_count": null,
   "id": "5d1b6a16",
   "metadata": {},
   "outputs": [],
   "source": []
  },
  {
   "cell_type": "code",
   "execution_count": null,
   "id": "1dbdd0cc",
   "metadata": {},
   "outputs": [],
   "source": []
  },
  {
   "cell_type": "code",
   "execution_count": null,
   "id": "c23dd4de",
   "metadata": {},
   "outputs": [],
   "source": []
  },
  {
   "cell_type": "code",
   "execution_count": null,
   "id": "6c9a58d9",
   "metadata": {},
   "outputs": [],
   "source": []
  },
  {
   "cell_type": "code",
   "execution_count": null,
   "id": "7ad6f1a2",
   "metadata": {},
   "outputs": [],
   "source": []
  },
  {
   "cell_type": "code",
   "execution_count": null,
   "id": "1154f3a6",
   "metadata": {},
   "outputs": [],
   "source": []
  },
  {
   "cell_type": "code",
   "execution_count": null,
   "id": "096db29a",
   "metadata": {},
   "outputs": [],
   "source": []
  },
  {
   "cell_type": "code",
   "execution_count": null,
   "id": "95bd22ad",
   "metadata": {},
   "outputs": [],
   "source": []
  },
  {
   "cell_type": "code",
   "execution_count": null,
   "id": "4e696865",
   "metadata": {},
   "outputs": [],
   "source": []
  },
  {
   "cell_type": "code",
   "execution_count": null,
   "id": "1676196d",
   "metadata": {},
   "outputs": [],
   "source": []
  },
  {
   "cell_type": "code",
   "execution_count": null,
   "id": "295fe01b",
   "metadata": {},
   "outputs": [],
   "source": []
  },
  {
   "cell_type": "code",
   "execution_count": null,
   "id": "09b158c8",
   "metadata": {},
   "outputs": [],
   "source": []
  },
  {
   "cell_type": "code",
   "execution_count": null,
   "id": "9c41b66f",
   "metadata": {},
   "outputs": [],
   "source": []
  }
 ],
 "metadata": {
  "kernelspec": {
   "display_name": "Python 3",
   "language": "python",
   "name": "python3"
  },
  "language_info": {
   "codemirror_mode": {
    "name": "ipython",
    "version": 3
   },
   "file_extension": ".py",
   "mimetype": "text/x-python",
   "name": "python",
   "nbconvert_exporter": "python",
   "pygments_lexer": "ipython3",
   "version": "3.8.8"
  }
 },
 "nbformat": 4,
 "nbformat_minor": 5
}
